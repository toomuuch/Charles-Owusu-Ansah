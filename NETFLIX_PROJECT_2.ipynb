{
  "nbformat": 4,
  "nbformat_minor": 0,
  "metadata": {
    "colab": {
      "name": "NETFLIX-PROJECT-2.ipynb",
      "provenance": [],
      "collapsed_sections": []
    },
    "kernelspec": {
      "name": "python3",
      "display_name": "Python 3"
    },
    "language_info": {
      "name": "python"
    }
  },
  "cells": [
    {
      "cell_type": "code",
      "metadata": {
        "colab": {
          "base_uri": "https://localhost:8080/"
        },
        "id": "mZ9W19OO0FPY",
        "outputId": "a000ec8a-564d-4f03-e6ee-addf6bc6632c"
      },
      "source": [
        "# activate Spark in our Colab notebook.\n",
        "import os\n",
        "# Find the latest version of spark 3.0  from http://www-us.apache.org/dist/spark/ and enter as the spark version\n",
        "# For example:\n",
        "spark_version = 'spark-3.1.1'\n",
        "# spark_version = 'spark-3.<enter version>'\n",
        "os.environ['SPARK_VERSION']=spark_version\n",
        "\n",
        "# Install Spark and Java\n",
        "!apt-get update\n",
        "!apt-get install openjdk-11-jdk-headless -qq > /dev/null\n",
        "!wget -q http://www-us.apache.org/dist/spark/$SPARK_VERSION/$SPARK_VERSION-bin-hadoop2.7.tgz\n",
        "!tar xf $SPARK_VERSION-bin-hadoop2.7.tgz\n",
        "!pip install -q findspark\n",
        "\n",
        "# Set Environment Variables\n",
        "os.environ[\"JAVA_HOME\"] = \"/usr/lib/jvm/java-11-openjdk-amd64\"\n",
        "os.environ[\"SPARK_HOME\"] = f\"/content/{spark_version}-bin-hadoop2.7\"\n",
        "\n",
        "# Start a SparkSession\n",
        "import findspark\n",
        "findspark.init()"
      ],
      "execution_count": null,
      "outputs": [
        {
          "output_type": "stream",
          "text": [
            "Get:1 http://security.ubuntu.com/ubuntu bionic-security InRelease [88.7 kB]\n",
            "Hit:2 https://cloud.r-project.org/bin/linux/ubuntu bionic-cran40/ InRelease\n",
            "Ign:3 https://developer.download.nvidia.com/compute/cuda/repos/ubuntu1804/x86_64  InRelease\n",
            "Ign:4 https://developer.download.nvidia.com/compute/machine-learning/repos/ubuntu1804/x86_64  InRelease\n",
            "Hit:5 http://archive.ubuntu.com/ubuntu bionic InRelease\n",
            "Get:6 http://ppa.launchpad.net/c2d4u.team/c2d4u4.0+/ubuntu bionic InRelease [15.9 kB]\n",
            "Hit:7 https://developer.download.nvidia.com/compute/cuda/repos/ubuntu1804/x86_64  Release\n",
            "Hit:8 https://developer.download.nvidia.com/compute/machine-learning/repos/ubuntu1804/x86_64  Release\n",
            "Get:9 http://archive.ubuntu.com/ubuntu bionic-updates InRelease [88.7 kB]\n",
            "Hit:10 http://ppa.launchpad.net/cran/libgit2/ubuntu bionic InRelease\n",
            "Get:11 http://archive.ubuntu.com/ubuntu bionic-backports InRelease [74.6 kB]\n",
            "Hit:12 http://ppa.launchpad.net/deadsnakes/ppa/ubuntu bionic InRelease\n",
            "Hit:13 http://ppa.launchpad.net/graphics-drivers/ppa/ubuntu bionic InRelease\n",
            "Get:16 http://archive.ubuntu.com/ubuntu bionic-updates/universe amd64 Packages [2,172 kB]\n",
            "Get:17 http://archive.ubuntu.com/ubuntu bionic-updates/main amd64 Packages [2,476 kB]\n",
            "Fetched 4,916 kB in 3s (1,411 kB/s)\n",
            "Reading package lists... Done\n"
          ],
          "name": "stdout"
        }
      ]
    },
    {
      "cell_type": "code",
      "metadata": {
        "id": "ud5eIMch1fai"
      },
      "source": [
        "#import packages\n",
        "# We are using pandas to read the raw csv files from github, then converting them to spark Dataframes (this will save us some download time and HDD space on our laptops)\n",
        "from pyspark.sql import SparkSession\n",
        "from pyspark.sql import Row\n",
        "from pyspark.sql.types import StructType,StructField,StringType, DateType,IntegerType\n",
        "import pandas as pd\n",
        "# we are going to use this to time our queries.\n",
        "import time\n",
        "\n",
        "# Create a SparkSession\n",
        "spark = SparkSession.builder.appName(\"SparkSQL\").getOrCreate()"
      ],
      "execution_count": null,
      "outputs": []
    },
    {
      "cell_type": "code",
      "metadata": {
        "id": "pv3de9f81fRb"
      },
      "source": [
        "# Read in data from S3 Bucket\n",
        "from pyspark import SparkFiles\n",
        "url = \"https://2u-data-curriculum-team.s3.amazonaws.com/dataviz-netflix/filterNames.csv\"\n",
        "spark.sparkContext.addFile(url)\n",
        "names_df = spark.read.csv(SparkFiles.get(\"filterNames.csv\"), sep=\",\", header=True)"
      ],
      "execution_count": null,
      "outputs": []
    },
    {
      "cell_type": "code",
      "metadata": {
        "id": "5aJOhh6ZSFP9"
      },
      "source": [
        "from pyspark.sql import functions as f\n",
        "from pyspark.sql.functions import hour\n",
        "from pyspark.sql.types import IntegerType\n",
        "from pyspark.sql.functions import to_timestamp\n",
        "from pyspark.sql.functions import when"
      ],
      "execution_count": null,
      "outputs": []
    },
    {
      "cell_type": "markdown",
      "metadata": {
        "id": "6jKVmAhsd2Vh"
      },
      "source": [
        "**QUESTION 1**"
      ]
    },
    {
      "cell_type": "code",
      "metadata": {
        "colab": {
          "base_uri": "https://localhost:8080/"
        },
        "id": "tNBKK9KC1fMj",
        "outputId": "c288f495-cd80-4fd9-c79a-5d559a5731b9"
      },
      "source": [
        "#viewing the names dataset\n",
        "names_df.show()"
      ],
      "execution_count": null,
      "outputs": [
        {
          "output_type": "stream",
          "text": [
            "+---------+------------------+---------+---------+--------------------+--------------------+---------+\n",
            "|   nconst|       primaryname|birthyear|deathyear|   primaryprofession|      knownfortitles| knownFor|\n",
            "+---------+------------------+---------+---------+--------------------+--------------------+---------+\n",
            "|nm0458594|     Roger Kleiber|     null|     null|visual_effects,ed...|tt0405022,tt19579...|tt0497467|\n",
            "|nm0458601|        Mark Kleid|     null|     null|               actor|tt0105041,tt01120...|tt0277615|\n",
            "|nm0458616|      Mark Kleiman|     null|     null|editor,producer,m...|tt0196091,tt01256...|tt0972846|\n",
            "|nm0458617|   Michael Kleiman|     1969|     null|camera_department...|tt0913354,tt04311...|tt0431197|\n",
            "|nm0458618|      Naum Kleiman|     1937|     null|director,actor,wr...|tt3066262,tt64875...|tt3066262|\n",
            "|nm0458648|     Andreas Klein|     null|     null|producer,executiv...|tt0311429,tt03139...|tt0311429|\n",
            "|nm0458656|      Arthur Klein|     null|     null|editorial_departm...|tt0106925,tt13375...|tt1337579|\n",
            "|nm0458664|        Bart Klein|     null|     null|               actor|tt0830854,tt03064...|tt0306413|\n",
            "|nm0458674|Bonnie Sherr Klein|     1941|     null|director,producer...|tt0227531,tt02242...|tt5492464|\n",
            "|nm0458680|       Butch Klein|     null|     null| actor,miscellaneous|tt7255502,tt04417...|tt3609352|\n",
            "|nm0458680|       Butch Klein|     null|     null| actor,miscellaneous|tt7255502,tt04417...|tt0285331|\n",
            "|nm0458690|    Cathleen Klein|     null|     null|visual_effects,sp...|tt4154796,tt18256...|tt1825683|\n",
            "|nm0458690|    Cathleen Klein|     null|     null|visual_effects,sp...|tt4154796,tt18256...|tt1843866|\n",
            "|nm0458719|     Dietmar Klein|     1956|     null|director,writer,c...|tt0100652,tt01203...|tt0330426|\n",
            "|nm0458723|    E. Niles Klein|     null|     null|    sound_department|tt0285531,tt10534...|tt0285531|\n",
            "|nm0458723|    E. Niles Klein|     null|     null|    sound_department|tt0285531,tt10534...|tt0431197|\n",
            "|nm0458728|      Edward Klein|     1936|     null|                null|tt9170254,tt36511...|tt3651106|\n",
            "|nm0458734| Ellyn Klein Golub|     null|     null|miscellaneous,pro...|tt2262227,tt02683...|tt0268397|\n",
            "|nm0458747|       Frank Klein|     null|     null|miscellaneous,pro...|tt0297284,tt18953...|tt0297284|\n",
            "|nm0458750|        Gary Klein|     null|     null|music_department,...|tt0082958,tt00775...|tt0249238|\n",
            "+---------+------------------+---------+---------+--------------------+--------------------+---------+\n",
            "only showing top 20 rows\n",
            "\n"
          ],
          "name": "stdout"
        }
      ]
    },
    {
      "cell_type": "code",
      "metadata": {
        "id": "plV1NyvO1fH7"
      },
      "source": [
        "#Creating a temporary view.  The temp view is a pre-requisite for Spark to allow you to read with sql.\n",
        "names_df.createOrReplaceTempView('profession')"
      ],
      "execution_count": null,
      "outputs": []
    },
    {
      "cell_type": "code",
      "metadata": {
        "id": "uhel3UtX31GG"
      },
      "source": [
        " #using sql in Spark just requires you to call spark.sql(<sql>) and showing the data.\n",
        "#here we are peeking at the data using SparkSQL\n",
        "pri_prof= spark.sql(\"select nconst,primaryname,primaryprofession,birthyear,deathyear  from profession where primaryprofession like '%actor%' or primaryprofession like '%actress%'\")"
      ],
      "execution_count": null,
      "outputs": []
    },
    {
      "cell_type": "code",
      "metadata": {
        "id": "xZkJEOM-B6NW"
      },
      "source": [
        "#Tempview of the names_df\n",
        "pri_prof.createOrReplaceTempView('birth')"
      ],
      "execution_count": null,
      "outputs": []
    },
    {
      "cell_type": "code",
      "metadata": {
        "colab": {
          "base_uri": "https://localhost:8080/"
        },
        "id": "YPCZNsyh_WcK",
        "outputId": "7e8a2eaa-0944-42b5-868a-0e7c80c05c5b"
      },
      "source": [
        "#viewing ONLY actors/actresses with birthyear and deathyear (dead people)\n",
        "birth_year = spark.sql(\"select nconst,primaryname,primaryprofession,birthyear,deathyear  from birth where birthyear >0 and  deathyear >0\")\n",
        "birth_year.show()"
      ],
      "execution_count": null,
      "outputs": [
        {
          "output_type": "stream",
          "text": [
            "+---------+------------------+--------------------+---------+---------+\n",
            "|   nconst|       primaryname|   primaryprofession|birthyear|deathyear|\n",
            "+---------+------------------+--------------------+---------+---------+\n",
            "|nm0459186|    Maria Klejdysz|             actress|     1927|     2009|\n",
            "|nm0459258|   Jaromír Klempír|composer,soundtra...|     1944|     2016|\n",
            "|nm0459299|   Ladislav Klepal|               actor|     1937|     2002|\n",
            "|nm0459585|   Matthiew Klinck|producer,actor,ci...|     1978|     2016|\n",
            "|nm0459991|       Enn Klooren|               actor|     1940|     2011|\n",
            "|nm0460294|       Harry Klynn|actor,writer,dire...|     1940|     2018|\n",
            "|nm0460554|      Nikita Knatz|art_department,ac...|     1940|     2010|\n",
            "|nm0461841|   Dominic Knutton|               actor|     1970|     2007|\n",
            "|nm0458957|       Robin Klein|casting_director,...|     1960|     2004|\n",
            "|nm0459585|   Matthiew Klinck|producer,actor,ci...|     1978|     2016|\n",
            "|nm0460104|      Claude Klotz|        writer,actor|     1932|     2010|\n",
            "|nm0460810|      Baker Knight|soundtrack,actor,...|     1933|     2005|\n",
            "|nm0461063|   Rosalind Knight|             actress|     1933|     2020|\n",
            "|nm0461063|   Rosalind Knight|             actress|     1933|     2020|\n",
            "|nm0461841|   Dominic Knutton|               actor|     1970|     2007|\n",
            "|nm0462858|     Werner Koenig|      producer,actor|     1963|     2000|\n",
            "|nm0460455|   Frank Knapp Jr.|               actor|     1942|     2012|\n",
            "|nm0460810|      Baker Knight|soundtrack,actor,...|     1933|     2005|\n",
            "|nm0461032|      Peter Knight|music_department,...|     1917|     1985|\n",
            "|nm0461223|Roger Knobelspiess|               actor|     1947|     2017|\n",
            "+---------+------------------+--------------------+---------+---------+\n",
            "only showing top 20 rows\n",
            "\n"
          ],
          "name": "stdout"
        }
      ]
    },
    {
      "cell_type": "code",
      "metadata": {
        "colab": {
          "base_uri": "https://localhost:8080/"
        },
        "id": "DROZUFK4_6c9",
        "outputId": "7eca9b56-9905-4a00-8f8c-fa094c06937a"
      },
      "source": [
        "#calculating the ages of actors/actresses who are dead \n",
        "actors_age= birth_year.withColumn(\"age\",(birth_year['deathyear'] - birth_year['birthyear']))\n",
        "actors_age = actors_age.withColumn(\"age\", actors_age[\"age\"].cast(IntegerType()))\n",
        "actors_age.show()"
      ],
      "execution_count": null,
      "outputs": [
        {
          "output_type": "stream",
          "text": [
            "+---------+------------------+--------------------+---------+---------+---+\n",
            "|   nconst|       primaryname|   primaryprofession|birthyear|deathyear|age|\n",
            "+---------+------------------+--------------------+---------+---------+---+\n",
            "|nm0459186|    Maria Klejdysz|             actress|     1927|     2009| 82|\n",
            "|nm0459258|   Jaromír Klempír|composer,soundtra...|     1944|     2016| 72|\n",
            "|nm0459299|   Ladislav Klepal|               actor|     1937|     2002| 65|\n",
            "|nm0459585|   Matthiew Klinck|producer,actor,ci...|     1978|     2016| 38|\n",
            "|nm0459991|       Enn Klooren|               actor|     1940|     2011| 71|\n",
            "|nm0460294|       Harry Klynn|actor,writer,dire...|     1940|     2018| 78|\n",
            "|nm0460554|      Nikita Knatz|art_department,ac...|     1940|     2010| 70|\n",
            "|nm0461841|   Dominic Knutton|               actor|     1970|     2007| 37|\n",
            "|nm0458957|       Robin Klein|casting_director,...|     1960|     2004| 44|\n",
            "|nm0459585|   Matthiew Klinck|producer,actor,ci...|     1978|     2016| 38|\n",
            "|nm0460104|      Claude Klotz|        writer,actor|     1932|     2010| 78|\n",
            "|nm0460810|      Baker Knight|soundtrack,actor,...|     1933|     2005| 72|\n",
            "|nm0461063|   Rosalind Knight|             actress|     1933|     2020| 87|\n",
            "|nm0461063|   Rosalind Knight|             actress|     1933|     2020| 87|\n",
            "|nm0461841|   Dominic Knutton|               actor|     1970|     2007| 37|\n",
            "|nm0462858|     Werner Koenig|      producer,actor|     1963|     2000| 37|\n",
            "|nm0460455|   Frank Knapp Jr.|               actor|     1942|     2012| 70|\n",
            "|nm0460810|      Baker Knight|soundtrack,actor,...|     1933|     2005| 72|\n",
            "|nm0461032|      Peter Knight|music_department,...|     1917|     1985| 68|\n",
            "|nm0461223|Roger Knobelspiess|               actor|     1947|     2017| 70|\n",
            "+---------+------------------+--------------------+---------+---------+---+\n",
            "only showing top 20 rows\n",
            "\n"
          ],
          "name": "stdout"
        }
      ]
    },
    {
      "cell_type": "code",
      "metadata": {
        "id": "7aHK9rtYYZ-S"
      },
      "source": [
        "from pyspark.sql.functions import when"
      ],
      "execution_count": null,
      "outputs": []
    },
    {
      "cell_type": "code",
      "metadata": {
        "colab": {
          "base_uri": "https://localhost:8080/"
        },
        "id": "PO-85S5R_6X-",
        "outputId": "6c5c5095-97db-41d4-8b92-2676c1bf9e48"
      },
      "source": [
        "#checks from the actors/actress dataframe to see if they are alive or dead.\n",
        "alive_dead = pri_prof.withColumn(\"Status\",\n",
        "       when(pri_prof.birthyear.isNotNull() & pri_prof.deathyear.isNotNull(), \"Dead\")\n",
        "      .when(pri_prof.birthyear.isNotNull() & pri_prof.deathyear.isNull(), \"Alive\")\n",
        "      .when(pri_prof.birthyear.isNull() & pri_prof.deathyear.isNotNull(), \"Dead\")\n",
        "      .otherwise(\"unknown\"))\n",
        "alive_dead.show(40)"
      ],
      "execution_count": null,
      "outputs": [
        {
          "output_type": "stream",
          "text": [
            "+---------+-------------------+--------------------+---------+---------+-------+\n",
            "|   nconst|        primaryname|   primaryprofession|birthyear|deathyear| Status|\n",
            "+---------+-------------------+--------------------+---------+---------+-------+\n",
            "|nm0458601|         Mark Kleid|               actor|     null|     null|unknown|\n",
            "|nm0458618|       Naum Kleiman|director,actor,wr...|     1937|     null|  Alive|\n",
            "|nm0458664|         Bart Klein|               actor|     null|     null|unknown|\n",
            "|nm0458680|        Butch Klein| actor,miscellaneous|     null|     null|unknown|\n",
            "|nm0458680|        Butch Klein| actor,miscellaneous|     null|     null|unknown|\n",
            "|nm0458808|         Jeff Klein|art_department,actor|     null|     null|unknown|\n",
            "|nm0458833|         Jona Klein|editorial_departm...|     null|     null|unknown|\n",
            "|nm0458834|        Jonah Klein|actor,producer,wr...|     null|     null|unknown|\n",
            "|nm0458842|       Jürgen Klein|        stunts,actor|     1968|     null|  Alive|\n",
            "|nm0458866|       Leslie Klein|             actress|     null|     null|unknown|\n",
            "|nm0458868|        Linda Klein|producer,miscella...|     null|     null|unknown|\n",
            "|nm0458875|          Lou Klein|actor,art_departm...|     null|     null|unknown|\n",
            "|nm0458929|        Paula Klein|             actress|     null|     null|unknown|\n",
            "|nm0458951|       Robert Klein|actor,soundtrack,...|     1942|     null|  Alive|\n",
            "|nm0458971|    Sebastian Klein|actor,writer,musi...|     1972|     null|  Alive|\n",
            "|nm0459000|      Timothy Klein|miscellaneous,act...|     null|     null|unknown|\n",
            "|nm0459041|    Kevin Kleinberg|               actor|     1982|     null|  Alive|\n",
            "|nm0459059|       Thilo Kleine|producer,actor,an...|     null|     null|unknown|\n",
            "|nm0459062|Adelheid Kleineidam|             actress|     1966|     null|  Alive|\n",
            "|nm0459073|     Sergio Kleiner|               actor|     1936|     null|  Alive|\n",
            "|nm0459084| Franziska Kleinert|             actress|     1955|     null|  Alive|\n",
            "|nm0459106|  Stefan Kleinkrieg|               actor|     null|     null|unknown|\n",
            "|nm0459110|    Daniel Kleinman|director,miscella...|     null|     null|unknown|\n",
            "|nm0459127|     Susan Kleinman|miscellaneous,act...|     null|     null|unknown|\n",
            "|nm0459132|   Manny Kleinmuntz|               actor|     1922|     null|  Alive|\n",
            "|nm0459152|    Simone Kleinsma|  actress,soundtrack|     1958|     null|  Alive|\n",
            "|nm0459165|    Jeffrey Kleiser|visual_effects,di...|     null|     null|unknown|\n",
            "|nm0459186|     Maria Klejdysz|             actress|     1927|     2009|   Dead|\n",
            "|nm0459224|   Jouko Klemettilä|    actor,soundtrack|     1961|     null|  Alive|\n",
            "|nm0459245|         Anna Klemp|    producer,actress|     1976|     null|  Alive|\n",
            "|nm0459258|    Jaromír Klempír|composer,soundtra...|     1944|     2016|   Dead|\n",
            "|nm0459259|       Arthur Klemt|    actor,soundtrack|     1967|     null|  Alive|\n",
            "|nm0459274|        Jirí Klenka|sound_department,...|     1972|     null|  Alive|\n",
            "|nm0459284|        Jiri Klenot|        actor,stunts|     1943|     null|  Alive|\n",
            "|nm0459299|    Ladislav Klepal|               actor|     1937|     2002|   Dead|\n",
            "|nm0459303|      Bohumil Klepl|actor,writer,soun...|     1958|     null|  Alive|\n",
            "|nm0459318|     Kamaljeet Kler|             actress|     null|     null|unknown|\n",
            "|nm0459349|       Nora Kletter|      actress,writer|     null|     null|unknown|\n",
            "|nm0459363|      Åse Kleveland|miscellaneous,act...|     1949|     null|  Alive|\n",
            "|nm0459364|       Aaron Kleven|               actor|     null|     null|unknown|\n",
            "+---------+-------------------+--------------------+---------+---------+-------+\n",
            "only showing top 40 rows\n",
            "\n"
          ],
          "name": "stdout"
        }
      ]
    },
    {
      "cell_type": "code",
      "metadata": {
        "id": "IGNqkHOg_6Ue"
      },
      "source": [
        "#calculating actors age based on the given data set, without any assumption.\n",
        "actors_actress_age= alive_dead.withColumn(\"age\",(alive_dead['deathyear'] - alive_dead['birthyear']))\n",
        "actors_actress_age = actors_actress_age.withColumn(\"age\", actors_actress_age[\"age\"].cast(IntegerType()))\n",
        "#actors_actress_age.show(50)"
      ],
      "execution_count": null,
      "outputs": []
    },
    {
      "cell_type": "code",
      "metadata": {
        "id": "CDoVtanL_GMB",
        "colab": {
          "base_uri": "https://localhost:8080/"
        },
        "outputId": "914eb31c-d36f-4350-b45e-b6303a02d7e4"
      },
      "source": [
        "#Assuming those actors/actresses with their missing death dates are still alive, their ages are calculated using 2021.\n",
        "act_age = actors_actress_age.withColumn(\"Actors/actresses age\",\n",
        "       when(actors_actress_age.birthyear.isNotNull() & actors_actress_age.deathyear.isNotNull(), actors_actress_age.age)\n",
        "      .when(actors_actress_age.birthyear.isNotNull() & actors_actress_age.deathyear.isNull(), (2021 - actors_actress_age['birthyear']).cast(IntegerType()))\n",
        "      .otherwise(actors_actress_age.age))\n",
        "act_age.show(40)"
      ],
      "execution_count": null,
      "outputs": [
        {
          "output_type": "stream",
          "text": [
            "+---------+-------------------+--------------------+---------+---------+-------+----+--------------------+\n",
            "|   nconst|        primaryname|   primaryprofession|birthyear|deathyear| Status| age|Actors/actresses age|\n",
            "+---------+-------------------+--------------------+---------+---------+-------+----+--------------------+\n",
            "|nm0458601|         Mark Kleid|               actor|     null|     null|unknown|null|                null|\n",
            "|nm0458618|       Naum Kleiman|director,actor,wr...|     1937|     null|  Alive|null|                  84|\n",
            "|nm0458664|         Bart Klein|               actor|     null|     null|unknown|null|                null|\n",
            "|nm0458680|        Butch Klein| actor,miscellaneous|     null|     null|unknown|null|                null|\n",
            "|nm0458680|        Butch Klein| actor,miscellaneous|     null|     null|unknown|null|                null|\n",
            "|nm0458808|         Jeff Klein|art_department,actor|     null|     null|unknown|null|                null|\n",
            "|nm0458833|         Jona Klein|editorial_departm...|     null|     null|unknown|null|                null|\n",
            "|nm0458834|        Jonah Klein|actor,producer,wr...|     null|     null|unknown|null|                null|\n",
            "|nm0458842|       Jürgen Klein|        stunts,actor|     1968|     null|  Alive|null|                  53|\n",
            "|nm0458866|       Leslie Klein|             actress|     null|     null|unknown|null|                null|\n",
            "|nm0458868|        Linda Klein|producer,miscella...|     null|     null|unknown|null|                null|\n",
            "|nm0458875|          Lou Klein|actor,art_departm...|     null|     null|unknown|null|                null|\n",
            "|nm0458929|        Paula Klein|             actress|     null|     null|unknown|null|                null|\n",
            "|nm0458951|       Robert Klein|actor,soundtrack,...|     1942|     null|  Alive|null|                  79|\n",
            "|nm0458971|    Sebastian Klein|actor,writer,musi...|     1972|     null|  Alive|null|                  49|\n",
            "|nm0459000|      Timothy Klein|miscellaneous,act...|     null|     null|unknown|null|                null|\n",
            "|nm0459041|    Kevin Kleinberg|               actor|     1982|     null|  Alive|null|                  39|\n",
            "|nm0459059|       Thilo Kleine|producer,actor,an...|     null|     null|unknown|null|                null|\n",
            "|nm0459062|Adelheid Kleineidam|             actress|     1966|     null|  Alive|null|                  55|\n",
            "|nm0459073|     Sergio Kleiner|               actor|     1936|     null|  Alive|null|                  85|\n",
            "|nm0459084| Franziska Kleinert|             actress|     1955|     null|  Alive|null|                  66|\n",
            "|nm0459106|  Stefan Kleinkrieg|               actor|     null|     null|unknown|null|                null|\n",
            "|nm0459110|    Daniel Kleinman|director,miscella...|     null|     null|unknown|null|                null|\n",
            "|nm0459127|     Susan Kleinman|miscellaneous,act...|     null|     null|unknown|null|                null|\n",
            "|nm0459132|   Manny Kleinmuntz|               actor|     1922|     null|  Alive|null|                  99|\n",
            "|nm0459152|    Simone Kleinsma|  actress,soundtrack|     1958|     null|  Alive|null|                  63|\n",
            "|nm0459165|    Jeffrey Kleiser|visual_effects,di...|     null|     null|unknown|null|                null|\n",
            "|nm0459186|     Maria Klejdysz|             actress|     1927|     2009|   Dead|  82|                  82|\n",
            "|nm0459224|   Jouko Klemettilä|    actor,soundtrack|     1961|     null|  Alive|null|                  60|\n",
            "|nm0459245|         Anna Klemp|    producer,actress|     1976|     null|  Alive|null|                  45|\n",
            "|nm0459258|    Jaromír Klempír|composer,soundtra...|     1944|     2016|   Dead|  72|                  72|\n",
            "|nm0459259|       Arthur Klemt|    actor,soundtrack|     1967|     null|  Alive|null|                  54|\n",
            "|nm0459274|        Jirí Klenka|sound_department,...|     1972|     null|  Alive|null|                  49|\n",
            "|nm0459284|        Jiri Klenot|        actor,stunts|     1943|     null|  Alive|null|                  78|\n",
            "|nm0459299|    Ladislav Klepal|               actor|     1937|     2002|   Dead|  65|                  65|\n",
            "|nm0459303|      Bohumil Klepl|actor,writer,soun...|     1958|     null|  Alive|null|                  63|\n",
            "|nm0459318|     Kamaljeet Kler|             actress|     null|     null|unknown|null|                null|\n",
            "|nm0459349|       Nora Kletter|      actress,writer|     null|     null|unknown|null|                null|\n",
            "|nm0459363|      Åse Kleveland|miscellaneous,act...|     1949|     null|  Alive|null|                  72|\n",
            "|nm0459364|       Aaron Kleven|               actor|     null|     null|unknown|null|                null|\n",
            "+---------+-------------------+--------------------+---------+---------+-------+----+--------------------+\n",
            "only showing top 40 rows\n",
            "\n"
          ],
          "name": "stdout"
        }
      ]
    },
    {
      "cell_type": "code",
      "metadata": {
        "id": "FcQcFwmJbas4"
      },
      "source": [
        ""
      ],
      "execution_count": null,
      "outputs": []
    },
    {
      "cell_type": "code",
      "metadata": {
        "id": "eEje8XUIReBy"
      },
      "source": [
        "#creating actors/actresses tables with unique names \n",
        "actors_table = act_age.select('nconst','primaryname','Actors/actresses age','Status').distinct()"
      ],
      "execution_count": null,
      "outputs": []
    },
    {
      "cell_type": "code",
      "metadata": {
        "id": "NqYxcJfEReXx",
        "colab": {
          "base_uri": "https://localhost:8080/"
        },
        "outputId": "1c5986ed-5167-44b1-aafe-4fbc3be35e9f"
      },
      "source": [
        "#display actors/actresses table\n",
        "actors_table.show()\n"
      ],
      "execution_count": null,
      "outputs": [
        {
          "output_type": "stream",
          "text": [
            "+----------+--------------------+--------------------+-------+\n",
            "|    nconst|         primaryname|Actors/actresses age| Status|\n",
            "+----------+--------------------+--------------------+-------+\n",
            "| nm0460785|Stephanie Knight ...|                null|unknown|\n",
            "| nm7746098|Belén García del ...|                null|unknown|\n",
            "| nm7749647|     Jamie Soricelli|                null|unknown|\n",
            "| nm1445342|     Houda Echouafni|                null|unknown|\n",
            "| nm1446060|      Hunter Parrish|                  34|  Alive|\n",
            "| nm1446758|Loison Robert Ludwig|                null|unknown|\n",
            "| nm4947226|        Erwan Catrix|                null|unknown|\n",
            "| nm4939875| Svetoslav Slaveykov|                null|unknown|\n",
            "| nm4944880|    Angeliki Kivotou|                null|unknown|\n",
            "| nm4946616|        Camari Brown|                null|unknown|\n",
            "| nm7743487|          Riley Wood|                null|unknown|\n",
            "| nm1449191|    José Javier Arce|                null|unknown|\n",
            "|nm10587537|      Sandile Mkhize|                null|unknown|\n",
            "| nm7021363|         Paige Baril|                null|unknown|\n",
            "| nm3128740|          Avi Ciment|                null|unknown|\n",
            "| nm3131629|       Rich Muscadin|                null|unknown|\n",
            "| nm3134251|        Lidia Sadowa|                  36|  Alive|\n",
            "| nm7749902|       Amelia Ramsey|                null|unknown|\n",
            "| nm7013788|  Patrick C. Delaney|                null|unknown|\n",
            "| nm4945713|      Yohama Borrego|                null|unknown|\n",
            "+----------+--------------------+--------------------+-------+\n",
            "only showing top 20 rows\n",
            "\n"
          ],
          "name": "stdout"
        }
      ]
    },
    {
      "cell_type": "markdown",
      "metadata": {
        "id": "sC445H7AlnPb"
      },
      "source": [
        ""
      ]
    },
    {
      "cell_type": "markdown",
      "metadata": {
        "id": "j6PTOS2N5qqO"
      },
      "source": [
        "**QUESTION 2**"
      ]
    },
    {
      "cell_type": "code",
      "metadata": {
        "id": "8mUcTOTxSIZc"
      },
      "source": [
        "# Read in data from S3 Bucket\n",
        "from pyspark import SparkFiles\n",
        "url = \"https://2u-data-curriculum-team.s3.amazonaws.com/dataviz-netflix/titles_basic.csv\"\n",
        "spark.sparkContext.addFile(url)\n",
        "titles_df = spark.read.csv(SparkFiles.get(\"titles_basic.csv\"), sep=\",\", header=True)"
      ],
      "execution_count": null,
      "outputs": []
    },
    {
      "cell_type": "code",
      "metadata": {
        "colab": {
          "base_uri": "https://localhost:8080/"
        },
        "id": "YK-viu-YSX7s",
        "outputId": "19655989-5e24-41c1-8797-778990291182"
      },
      "source": [
        "titles_df.show()"
      ],
      "execution_count": null,
      "outputs": [
        {
          "output_type": "stream",
          "text": [
            "+---+---------+---------+--------------------+--------------------+-------+---------+-------+--------------+--------------------+\n",
            "|_c0|   tconst|titletype|        primarytitle|       originaltitle|isadult|startyear|endyear|runtimeminutes|              genres|\n",
            "+---+---------+---------+--------------------+--------------------+-------+---------+-------+--------------+--------------------+\n",
            "|  0|tt0439997|    movie|           500 Almas|           500 Almas|      0|     2004|   null|         105.0|         Documentary|\n",
            "|  1|tt0439999|tvSpecial|           80s Mania|           80s Mania|      0|     2001|   null|          50.0|               Music|\n",
            "|  3|tt0440003|    movie|        A-1 Headline|         A1 tou tiao|      0|     2004|   null|          95.0|    Mystery,Thriller|\n",
            "|  4|tt0440004|  tvMovie| AD/BC: A Rock Opera| AD/BC: A Rock Opera|      0|     2004|   null|          30.0|      Comedy,Musical|\n",
            "|  5|tt0440008|  tvMovie|Abbamania: We Say...|Abbamania: We Say...|      0|     2004|   null|          50.0|   Documentary,Music|\n",
            "|  8|tt0440016|    movie|      Leave Me Alone|       Ah ma yau nan|      0|     2004|   null|          93.0|        Comedy,Crime|\n",
            "|  9|tt0440022|  tvMovie|        Al atardecer|        Al atardecer|      0|     2001|   null|          66.0|               Drama|\n",
            "| 17|tt0440035|  tvMovie|      L'amour en pen|      L'amour en pen|      0|     2004|   null|          52.0|         Documentary|\n",
            "| 31|tt0440067|    movie|      Explosive City|      Bau lit do see|      0|     2004|   null|          99.0|              Action|\n",
            "| 37|tt0440078|  tvMovie|  The Band Aid Story|  The Band Aid Story|      0|     2004|   null|          95.0|         Documentary|\n",
            "| 40|tt0440084|  tvMovie|A Beachcombers Ch...|A Beachcombers Ch...|      0|     2004|   null|         120.0|Adventure,Comedy,...|\n",
            "| 82|tt0440149|    video|Blink 182: Punk P...|Blink 182: Punk P...|      0|     2003|   null|          61.0|         Documentary|\n",
            "| 86|tt0440154|  tvMovie|Boogie special: 5...|Boogie special: 5...|      0|     2003|   null|          26.0|   Documentary,Music|\n",
            "| 87|tt0440155|  tvMovie|Boogie special: M...|Boogie special: M...|      0|     2003|   null|          28.0|Biography,Documen...|\n",
            "| 88|tt0440157|tvSpecial|The British Comed...|The British Comed...|      0|     2004|   null|         125.0|              Comedy|\n",
            "| 89|tt0440158|    movie|      Broken Bridges|      Broken Bridges|      0|     2004|   null|          96.0|               Drama|\n",
            "| 91|tt0440166|  tvMovie|      Bump and Grind|      Bump and Grind|      0|     2004|   null|          46.0|         Documentary|\n",
            "| 92|tt0440167|  tvMovie|   Burgers/Reizigers|   Burgers/Reizigers|      0|     2005|   null|          60.0|        Comedy,Drama|\n",
            "| 98|tt0440174|    movie|CD Hoy: Portraits...|CD Hoy: Portraits...|      0|     2003|   null|          48.0|         Documentary|\n",
            "| 99|tt0440175|    movie|          Cabra-Cega|          Cabra-Cega|      0|     2004|   null|         107.0|               Drama|\n",
            "+---+---------+---------+--------------------+--------------------+-------+---------+-------+--------------+--------------------+\n",
            "only showing top 20 rows\n",
            "\n"
          ],
          "name": "stdout"
        }
      ]
    },
    {
      "cell_type": "code",
      "metadata": {
        "id": "Jw5IHlZgj14r"
      },
      "source": [
        "#pyspark to float conversion\n",
        "titles_df = titles_df.withColumn(\"TimestampIntStr\", titles_df.runtimeminutes.cast(\"float\").cast(\"int\").cast(\"string\"))"
      ],
      "execution_count": null,
      "outputs": []
    },
    {
      "cell_type": "code",
      "metadata": {
        "colab": {
          "base_uri": "https://localhost:8080/"
        },
        "id": "VuaHxq1mkhwi",
        "outputId": "d26ba9ce-09f7-449b-e4ee-b891c0b7a400"
      },
      "source": [
        "# spliting timestamp into hour and minute\n",
        "titles_df = titles_df.withColumn(\"timestamphour\", f.floor(titles_df.runtimeminutes.cast(\"float\").cast(\"int\")/60).cast(\"string\"))\n",
        "titles_df = titles_df.withColumn(\"timestampminute\", (titles_df.runtimeminutes.cast(\"float\").cast(\"int\")%60).cast(\"string\"))\n",
        "titles_df.show()"
      ],
      "execution_count": null,
      "outputs": [
        {
          "output_type": "stream",
          "text": [
            "+---+---------+---------+--------------------+--------------------+-------+---------+-------+--------------+--------------------+---------------+-------------+---------------+\n",
            "|_c0|   tconst|titletype|        primarytitle|       originaltitle|isadult|startyear|endyear|runtimeminutes|              genres|TimestampIntStr|timestamphour|timestampminute|\n",
            "+---+---------+---------+--------------------+--------------------+-------+---------+-------+--------------+--------------------+---------------+-------------+---------------+\n",
            "|  0|tt0439997|    movie|           500 Almas|           500 Almas|      0|     2004|   null|         105.0|         Documentary|            105|            1|             45|\n",
            "|  1|tt0439999|tvSpecial|           80s Mania|           80s Mania|      0|     2001|   null|          50.0|               Music|             50|            0|             50|\n",
            "|  3|tt0440003|    movie|        A-1 Headline|         A1 tou tiao|      0|     2004|   null|          95.0|    Mystery,Thriller|             95|            1|             35|\n",
            "|  4|tt0440004|  tvMovie| AD/BC: A Rock Opera| AD/BC: A Rock Opera|      0|     2004|   null|          30.0|      Comedy,Musical|             30|            0|             30|\n",
            "|  5|tt0440008|  tvMovie|Abbamania: We Say...|Abbamania: We Say...|      0|     2004|   null|          50.0|   Documentary,Music|             50|            0|             50|\n",
            "|  8|tt0440016|    movie|      Leave Me Alone|       Ah ma yau nan|      0|     2004|   null|          93.0|        Comedy,Crime|             93|            1|             33|\n",
            "|  9|tt0440022|  tvMovie|        Al atardecer|        Al atardecer|      0|     2001|   null|          66.0|               Drama|             66|            1|              6|\n",
            "| 17|tt0440035|  tvMovie|      L'amour en pen|      L'amour en pen|      0|     2004|   null|          52.0|         Documentary|             52|            0|             52|\n",
            "| 31|tt0440067|    movie|      Explosive City|      Bau lit do see|      0|     2004|   null|          99.0|              Action|             99|            1|             39|\n",
            "| 37|tt0440078|  tvMovie|  The Band Aid Story|  The Band Aid Story|      0|     2004|   null|          95.0|         Documentary|             95|            1|             35|\n",
            "| 40|tt0440084|  tvMovie|A Beachcombers Ch...|A Beachcombers Ch...|      0|     2004|   null|         120.0|Adventure,Comedy,...|            120|            2|              0|\n",
            "| 82|tt0440149|    video|Blink 182: Punk P...|Blink 182: Punk P...|      0|     2003|   null|          61.0|         Documentary|             61|            1|              1|\n",
            "| 86|tt0440154|  tvMovie|Boogie special: 5...|Boogie special: 5...|      0|     2003|   null|          26.0|   Documentary,Music|             26|            0|             26|\n",
            "| 87|tt0440155|  tvMovie|Boogie special: M...|Boogie special: M...|      0|     2003|   null|          28.0|Biography,Documen...|             28|            0|             28|\n",
            "| 88|tt0440157|tvSpecial|The British Comed...|The British Comed...|      0|     2004|   null|         125.0|              Comedy|            125|            2|              5|\n",
            "| 89|tt0440158|    movie|      Broken Bridges|      Broken Bridges|      0|     2004|   null|          96.0|               Drama|             96|            1|             36|\n",
            "| 91|tt0440166|  tvMovie|      Bump and Grind|      Bump and Grind|      0|     2004|   null|          46.0|         Documentary|             46|            0|             46|\n",
            "| 92|tt0440167|  tvMovie|   Burgers/Reizigers|   Burgers/Reizigers|      0|     2005|   null|          60.0|        Comedy,Drama|             60|            1|              0|\n",
            "| 98|tt0440174|    movie|CD Hoy: Portraits...|CD Hoy: Portraits...|      0|     2003|   null|          48.0|         Documentary|             48|            0|             48|\n",
            "| 99|tt0440175|    movie|          Cabra-Cega|          Cabra-Cega|      0|     2004|   null|         107.0|               Drama|            107|            1|             47|\n",
            "+---+---------+---------+--------------------+--------------------+-------+---------+-------+--------------+--------------------+---------------+-------------+---------------+\n",
            "only showing top 20 rows\n",
            "\n"
          ],
          "name": "stdout"
        }
      ]
    },
    {
      "cell_type": "code",
      "metadata": {
        "id": "fDSiIZMmomCU"
      },
      "source": [
        "#putting the hour and minute together\n",
        "titles_df = titles_df.withColumn(\"tsstring\", f.concat_ws(':',titles_df.timestamphour.cast(\"string\"),titles_df.timestampminute.cast(\"string\")))\n",
        "#titles_df.show()"
      ],
      "execution_count": null,
      "outputs": []
    },
    {
      "cell_type": "code",
      "metadata": {
        "id": "4VMZ2VYWncvT"
      },
      "source": [
        "from pyspark.sql import functions as f"
      ],
      "execution_count": null,
      "outputs": []
    },
    {
      "cell_type": "code",
      "metadata": {
        "id": "NJtm7S5LnSSl"
      },
      "source": [
        "#titles_df.show()"
      ],
      "execution_count": null,
      "outputs": []
    },
    {
      "cell_type": "code",
      "metadata": {
        "id": "or6YXRl4S1Hv"
      },
      "source": [
        "# Read in data from S3 Bucket\n",
        "from pyspark import SparkFiles\n",
        "url = \"https://2u-data-curriculum-team.s3.amazonaws.com/dataviz-netflix/ratings.csv\"\n",
        "spark.sparkContext.addFile(url)\n",
        "rating_df = spark.read.csv(SparkFiles.get(\"ratings.csv\"), sep=\",\", header=True)"
      ],
      "execution_count": null,
      "outputs": []
    },
    {
      "cell_type": "code",
      "metadata": {
        "colab": {
          "base_uri": "https://localhost:8080/"
        },
        "id": "3hn8yOfSTDs8",
        "outputId": "ea0bfbfb-4786-48c5-aded-0b6964b7e398"
      },
      "source": [
        "rating_df.show()"
      ],
      "execution_count": null,
      "outputs": [
        {
          "output_type": "stream",
          "text": [
            "+---------+-------------+--------+\n",
            "|   tconst|averagerating|numvotes|\n",
            "+---------+-------------+--------+\n",
            "|tt0214461|          7.4|      74|\n",
            "|tt0214659|          6.0|      21|\n",
            "|tt0214878|          6.1|    1566|\n",
            "|tt0215244|          3.0|       5|\n",
            "|tt0215402|          8.1|       9|\n",
            "|tt0215423|          8.1|      11|\n",
            "|tt0215458|          5.6|     103|\n",
            "|tt0215785|          5.3|     506|\n",
            "|tt0215972|          5.5|      17|\n",
            "|tt0216247|          8.1|      17|\n",
            "|tt0216705|          7.0|     114|\n",
            "|tt0217135|          5.9|     306|\n",
            "|tt0217143|          6.5|      20|\n",
            "|tt0217196|          7.4|      66|\n",
            "|tt0217629|          7.0|    3009|\n",
            "|tt0217769|          5.8|     369|\n",
            "|tt0217824|          6.3|    1579|\n",
            "|tt0217836|          2.5|     430|\n",
            "|tt0218182|          6.3|    1593|\n",
            "|tt0218440|          6.0|    1960|\n",
            "+---------+-------------+--------+\n",
            "only showing top 20 rows\n",
            "\n"
          ],
          "name": "stdout"
        }
      ]
    },
    {
      "cell_type": "code",
      "metadata": {
        "id": "xR6PAQAIULo8"
      },
      "source": [
        "titles_df.createOrReplaceTempView('Film')"
      ],
      "execution_count": null,
      "outputs": []
    },
    {
      "cell_type": "code",
      "metadata": {
        "id": "jdIdWtnoUVjX"
      },
      "source": [
        " #using sql in Spark just requires you to call spark.sql(<sql>) and showing the data.\n",
        "#here we are peeking at the data using SparkSQL\n",
        "film_doc= spark.sql(\"select tconst,titletype,originaltitle,runtimeminutes  from Film\")"
      ],
      "execution_count": null,
      "outputs": []
    },
    {
      "cell_type": "code",
      "metadata": {
        "colab": {
          "base_uri": "https://localhost:8080/"
        },
        "id": "dI3iw6KHVTBo",
        "outputId": "8e49d710-7c19-46d2-94e5-dab7f69aa568"
      },
      "source": [
        "film_doc.show()"
      ],
      "execution_count": null,
      "outputs": [
        {
          "output_type": "stream",
          "text": [
            "+---------+---------+--------------------+--------------+\n",
            "|   tconst|titletype|       originaltitle|runtimeminutes|\n",
            "+---------+---------+--------------------+--------------+\n",
            "|tt0439997|    movie|           500 Almas|         105.0|\n",
            "|tt0439999|tvSpecial|           80s Mania|          50.0|\n",
            "|tt0440003|    movie|         A1 tou tiao|          95.0|\n",
            "|tt0440004|  tvMovie| AD/BC: A Rock Opera|          30.0|\n",
            "|tt0440008|  tvMovie|Abbamania: We Say...|          50.0|\n",
            "|tt0440016|    movie|       Ah ma yau nan|          93.0|\n",
            "|tt0440022|  tvMovie|        Al atardecer|          66.0|\n",
            "|tt0440035|  tvMovie|      L'amour en pen|          52.0|\n",
            "|tt0440067|    movie|      Bau lit do see|          99.0|\n",
            "|tt0440078|  tvMovie|  The Band Aid Story|          95.0|\n",
            "|tt0440084|  tvMovie|A Beachcombers Ch...|         120.0|\n",
            "|tt0440149|    video|Blink 182: Punk P...|          61.0|\n",
            "|tt0440154|  tvMovie|Boogie special: 5...|          26.0|\n",
            "|tt0440155|  tvMovie|Boogie special: M...|          28.0|\n",
            "|tt0440157|tvSpecial|The British Comed...|         125.0|\n",
            "|tt0440158|    movie|      Broken Bridges|          96.0|\n",
            "|tt0440166|  tvMovie|      Bump and Grind|          46.0|\n",
            "|tt0440167|  tvMovie|   Burgers/Reizigers|          60.0|\n",
            "|tt0440174|    movie|CD Hoy: Portraits...|          48.0|\n",
            "|tt0440175|    movie|          Cabra-Cega|         107.0|\n",
            "+---------+---------+--------------------+--------------+\n",
            "only showing top 20 rows\n",
            "\n"
          ],
          "name": "stdout"
        }
      ]
    },
    {
      "cell_type": "code",
      "metadata": {
        "colab": {
          "base_uri": "https://localhost:8080/"
        },
        "id": "ZToWhflrd84E",
        "outputId": "7a7608d7-cf1d-4240-a4d9-b0c2f7905429"
      },
      "source": [
        "from pyspark.sql.functions import to_timestamp\n",
        "df=titles_df.withColumn('date_time',to_timestamp('tsstring','K:m'))\n",
        "df.show()"
      ],
      "execution_count": null,
      "outputs": [
        {
          "output_type": "stream",
          "text": [
            "+---+---------+---------+--------------------+--------------------+-------+---------+-------+--------------+--------------------+---------------+-------------+---------------+--------+-------------------+\n",
            "|_c0|   tconst|titletype|        primarytitle|       originaltitle|isadult|startyear|endyear|runtimeminutes|              genres|TimestampIntStr|timestamphour|timestampminute|tsstring|          date_time|\n",
            "+---+---------+---------+--------------------+--------------------+-------+---------+-------+--------------+--------------------+---------------+-------------+---------------+--------+-------------------+\n",
            "|  0|tt0439997|    movie|           500 Almas|           500 Almas|      0|     2004|   null|         105.0|         Documentary|            105|            1|             45|    1:45|1970-01-01 01:45:00|\n",
            "|  1|tt0439999|tvSpecial|           80s Mania|           80s Mania|      0|     2001|   null|          50.0|               Music|             50|            0|             50|    0:50|1970-01-01 00:50:00|\n",
            "|  3|tt0440003|    movie|        A-1 Headline|         A1 tou tiao|      0|     2004|   null|          95.0|    Mystery,Thriller|             95|            1|             35|    1:35|1970-01-01 01:35:00|\n",
            "|  4|tt0440004|  tvMovie| AD/BC: A Rock Opera| AD/BC: A Rock Opera|      0|     2004|   null|          30.0|      Comedy,Musical|             30|            0|             30|    0:30|1970-01-01 00:30:00|\n",
            "|  5|tt0440008|  tvMovie|Abbamania: We Say...|Abbamania: We Say...|      0|     2004|   null|          50.0|   Documentary,Music|             50|            0|             50|    0:50|1970-01-01 00:50:00|\n",
            "|  8|tt0440016|    movie|      Leave Me Alone|       Ah ma yau nan|      0|     2004|   null|          93.0|        Comedy,Crime|             93|            1|             33|    1:33|1970-01-01 01:33:00|\n",
            "|  9|tt0440022|  tvMovie|        Al atardecer|        Al atardecer|      0|     2001|   null|          66.0|               Drama|             66|            1|              6|     1:6|1970-01-01 01:06:00|\n",
            "| 17|tt0440035|  tvMovie|      L'amour en pen|      L'amour en pen|      0|     2004|   null|          52.0|         Documentary|             52|            0|             52|    0:52|1970-01-01 00:52:00|\n",
            "| 31|tt0440067|    movie|      Explosive City|      Bau lit do see|      0|     2004|   null|          99.0|              Action|             99|            1|             39|    1:39|1970-01-01 01:39:00|\n",
            "| 37|tt0440078|  tvMovie|  The Band Aid Story|  The Band Aid Story|      0|     2004|   null|          95.0|         Documentary|             95|            1|             35|    1:35|1970-01-01 01:35:00|\n",
            "| 40|tt0440084|  tvMovie|A Beachcombers Ch...|A Beachcombers Ch...|      0|     2004|   null|         120.0|Adventure,Comedy,...|            120|            2|              0|     2:0|1970-01-01 02:00:00|\n",
            "| 82|tt0440149|    video|Blink 182: Punk P...|Blink 182: Punk P...|      0|     2003|   null|          61.0|         Documentary|             61|            1|              1|     1:1|1970-01-01 01:01:00|\n",
            "| 86|tt0440154|  tvMovie|Boogie special: 5...|Boogie special: 5...|      0|     2003|   null|          26.0|   Documentary,Music|             26|            0|             26|    0:26|1970-01-01 00:26:00|\n",
            "| 87|tt0440155|  tvMovie|Boogie special: M...|Boogie special: M...|      0|     2003|   null|          28.0|Biography,Documen...|             28|            0|             28|    0:28|1970-01-01 00:28:00|\n",
            "| 88|tt0440157|tvSpecial|The British Comed...|The British Comed...|      0|     2004|   null|         125.0|              Comedy|            125|            2|              5|     2:5|1970-01-01 02:05:00|\n",
            "| 89|tt0440158|    movie|      Broken Bridges|      Broken Bridges|      0|     2004|   null|          96.0|               Drama|             96|            1|             36|    1:36|1970-01-01 01:36:00|\n",
            "| 91|tt0440166|  tvMovie|      Bump and Grind|      Bump and Grind|      0|     2004|   null|          46.0|         Documentary|             46|            0|             46|    0:46|1970-01-01 00:46:00|\n",
            "| 92|tt0440167|  tvMovie|   Burgers/Reizigers|   Burgers/Reizigers|      0|     2005|   null|          60.0|        Comedy,Drama|             60|            1|              0|     1:0|1970-01-01 01:00:00|\n",
            "| 98|tt0440174|    movie|CD Hoy: Portraits...|CD Hoy: Portraits...|      0|     2003|   null|          48.0|         Documentary|             48|            0|             48|    0:48|1970-01-01 00:48:00|\n",
            "| 99|tt0440175|    movie|          Cabra-Cega|          Cabra-Cega|      0|     2004|   null|         107.0|               Drama|            107|            1|             47|    1:47|1970-01-01 01:47:00|\n",
            "+---+---------+---------+--------------------+--------------------+-------+---------+-------+--------------+--------------------+---------------+-------------+---------------+--------+-------------------+\n",
            "only showing top 20 rows\n",
            "\n"
          ],
          "name": "stdout"
        }
      ]
    },
    {
      "cell_type": "code",
      "metadata": {
        "id": "EOy_MhOa5p-i"
      },
      "source": [
        ""
      ],
      "execution_count": null,
      "outputs": []
    },
    {
      "cell_type": "code",
      "metadata": {
        "id": "Lx8hIDQgOkHw"
      },
      "source": [
        "#extracting only_time\n",
        "from pyspark.sql.functions import date_format\n",
        "film_table = df.withColumn('runtime', date_format('date_time', 'HH:mm'))"
      ],
      "execution_count": null,
      "outputs": []
    },
    {
      "cell_type": "code",
      "metadata": {
        "colab": {
          "base_uri": "https://localhost:8080/"
        },
        "id": "MW4PBvt6PA-W",
        "outputId": "a4004a6e-197f-4d9c-fb82-3f4bd545dc71"
      },
      "source": [
        "film_table.show()"
      ],
      "execution_count": null,
      "outputs": [
        {
          "output_type": "stream",
          "text": [
            "+---+---------+---------+--------------------+--------------------+-------+---------+-------+--------------+--------------------+---------------+-------------+---------------+--------+-------------------+-------+\n",
            "|_c0|   tconst|titletype|        primarytitle|       originaltitle|isadult|startyear|endyear|runtimeminutes|              genres|TimestampIntStr|timestamphour|timestampminute|tsstring|          date_time|runtime|\n",
            "+---+---------+---------+--------------------+--------------------+-------+---------+-------+--------------+--------------------+---------------+-------------+---------------+--------+-------------------+-------+\n",
            "|  0|tt0439997|    movie|           500 Almas|           500 Almas|      0|     2004|   null|         105.0|         Documentary|            105|            1|             45|    1:45|1970-01-01 01:45:00|  01:45|\n",
            "|  1|tt0439999|tvSpecial|           80s Mania|           80s Mania|      0|     2001|   null|          50.0|               Music|             50|            0|             50|    0:50|1970-01-01 00:50:00|  00:50|\n",
            "|  3|tt0440003|    movie|        A-1 Headline|         A1 tou tiao|      0|     2004|   null|          95.0|    Mystery,Thriller|             95|            1|             35|    1:35|1970-01-01 01:35:00|  01:35|\n",
            "|  4|tt0440004|  tvMovie| AD/BC: A Rock Opera| AD/BC: A Rock Opera|      0|     2004|   null|          30.0|      Comedy,Musical|             30|            0|             30|    0:30|1970-01-01 00:30:00|  00:30|\n",
            "|  5|tt0440008|  tvMovie|Abbamania: We Say...|Abbamania: We Say...|      0|     2004|   null|          50.0|   Documentary,Music|             50|            0|             50|    0:50|1970-01-01 00:50:00|  00:50|\n",
            "|  8|tt0440016|    movie|      Leave Me Alone|       Ah ma yau nan|      0|     2004|   null|          93.0|        Comedy,Crime|             93|            1|             33|    1:33|1970-01-01 01:33:00|  01:33|\n",
            "|  9|tt0440022|  tvMovie|        Al atardecer|        Al atardecer|      0|     2001|   null|          66.0|               Drama|             66|            1|              6|     1:6|1970-01-01 01:06:00|  01:06|\n",
            "| 17|tt0440035|  tvMovie|      L'amour en pen|      L'amour en pen|      0|     2004|   null|          52.0|         Documentary|             52|            0|             52|    0:52|1970-01-01 00:52:00|  00:52|\n",
            "| 31|tt0440067|    movie|      Explosive City|      Bau lit do see|      0|     2004|   null|          99.0|              Action|             99|            1|             39|    1:39|1970-01-01 01:39:00|  01:39|\n",
            "| 37|tt0440078|  tvMovie|  The Band Aid Story|  The Band Aid Story|      0|     2004|   null|          95.0|         Documentary|             95|            1|             35|    1:35|1970-01-01 01:35:00|  01:35|\n",
            "| 40|tt0440084|  tvMovie|A Beachcombers Ch...|A Beachcombers Ch...|      0|     2004|   null|         120.0|Adventure,Comedy,...|            120|            2|              0|     2:0|1970-01-01 02:00:00|  02:00|\n",
            "| 82|tt0440149|    video|Blink 182: Punk P...|Blink 182: Punk P...|      0|     2003|   null|          61.0|         Documentary|             61|            1|              1|     1:1|1970-01-01 01:01:00|  01:01|\n",
            "| 86|tt0440154|  tvMovie|Boogie special: 5...|Boogie special: 5...|      0|     2003|   null|          26.0|   Documentary,Music|             26|            0|             26|    0:26|1970-01-01 00:26:00|  00:26|\n",
            "| 87|tt0440155|  tvMovie|Boogie special: M...|Boogie special: M...|      0|     2003|   null|          28.0|Biography,Documen...|             28|            0|             28|    0:28|1970-01-01 00:28:00|  00:28|\n",
            "| 88|tt0440157|tvSpecial|The British Comed...|The British Comed...|      0|     2004|   null|         125.0|              Comedy|            125|            2|              5|     2:5|1970-01-01 02:05:00|  02:05|\n",
            "| 89|tt0440158|    movie|      Broken Bridges|      Broken Bridges|      0|     2004|   null|          96.0|               Drama|             96|            1|             36|    1:36|1970-01-01 01:36:00|  01:36|\n",
            "| 91|tt0440166|  tvMovie|      Bump and Grind|      Bump and Grind|      0|     2004|   null|          46.0|         Documentary|             46|            0|             46|    0:46|1970-01-01 00:46:00|  00:46|\n",
            "| 92|tt0440167|  tvMovie|   Burgers/Reizigers|   Burgers/Reizigers|      0|     2005|   null|          60.0|        Comedy,Drama|             60|            1|              0|     1:0|1970-01-01 01:00:00|  01:00|\n",
            "| 98|tt0440174|    movie|CD Hoy: Portraits...|CD Hoy: Portraits...|      0|     2003|   null|          48.0|         Documentary|             48|            0|             48|    0:48|1970-01-01 00:48:00|  00:48|\n",
            "| 99|tt0440175|    movie|          Cabra-Cega|          Cabra-Cega|      0|     2004|   null|         107.0|               Drama|            107|            1|             47|    1:47|1970-01-01 01:47:00|  01:47|\n",
            "+---+---------+---------+--------------------+--------------------+-------+---------+-------+--------------+--------------------+---------------+-------------+---------------+--------+-------------------+-------+\n",
            "only showing top 20 rows\n",
            "\n"
          ],
          "name": "stdout"
        }
      ]
    },
    {
      "cell_type": "code",
      "metadata": {
        "id": "wjZOBdMzwSPB"
      },
      "source": [
        "# joining two tables film_table and rating_df\n",
        "join_films = film_table.join(rating_df, on='tconst')\n"
      ],
      "execution_count": null,
      "outputs": []
    },
    {
      "cell_type": "code",
      "metadata": {
        "colab": {
          "base_uri": "https://localhost:8080/"
        },
        "id": "DyBZYlCwwSMj",
        "outputId": "e8b61ca2-f66e-4f82-a896-c24a010cb993"
      },
      "source": [
        "#showing table\n",
        "join_films.show()"
      ],
      "execution_count": null,
      "outputs": [
        {
          "output_type": "stream",
          "text": [
            "+---------+---+---------+--------------------+--------------------+-------+---------+-------+--------------+--------------------+---------------+-------------+---------------+--------+-------------------+-------+-------------+--------+\n",
            "|   tconst|_c0|titletype|        primarytitle|       originaltitle|isadult|startyear|endyear|runtimeminutes|              genres|TimestampIntStr|timestamphour|timestampminute|tsstring|          date_time|runtime|averagerating|numvotes|\n",
            "+---------+---+---------+--------------------+--------------------+-------+---------+-------+--------------+--------------------+---------------+-------------+---------------+--------+-------------------+-------+-------------+--------+\n",
            "|tt0439997|  0|    movie|           500 Almas|           500 Almas|      0|     2004|   null|         105.0|         Documentary|            105|            1|             45|    1:45|1970-01-01 01:45:00|  01:45|          7.2|      19|\n",
            "|tt0440003|  3|    movie|        A-1 Headline|         A1 tou tiao|      0|     2004|   null|          95.0|    Mystery,Thriller|             95|            1|             35|    1:35|1970-01-01 01:35:00|  01:35|          5.9|     259|\n",
            "|tt0440004|  4|  tvMovie| AD/BC: A Rock Opera| AD/BC: A Rock Opera|      0|     2004|   null|          30.0|      Comedy,Musical|             30|            0|             30|    0:30|1970-01-01 00:30:00|  00:30|          7.4|     736|\n",
            "|tt0440016|  8|    movie|      Leave Me Alone|       Ah ma yau nan|      0|     2004|   null|          93.0|        Comedy,Crime|             93|            1|             33|    1:33|1970-01-01 01:33:00|  01:33|          5.5|     200|\n",
            "|tt0440067| 31|    movie|      Explosive City|      Bau lit do see|      0|     2004|   null|          99.0|              Action|             99|            1|             39|    1:39|1970-01-01 01:39:00|  01:39|          5.4|     175|\n",
            "|tt0440078| 37|  tvMovie|  The Band Aid Story|  The Band Aid Story|      0|     2004|   null|          95.0|         Documentary|             95|            1|             35|    1:35|1970-01-01 01:35:00|  01:35|          8.1|      20|\n",
            "|tt0440084| 40|  tvMovie|A Beachcombers Ch...|A Beachcombers Ch...|      0|     2004|   null|         120.0|Adventure,Comedy,...|            120|            2|              0|     2:0|1970-01-01 02:00:00|  02:00|          7.0|      41|\n",
            "|tt0440149| 82|    video|Blink 182: Punk P...|Blink 182: Punk P...|      0|     2003|   null|          61.0|         Documentary|             61|            1|              1|     1:1|1970-01-01 01:01:00|  01:01|          4.1|     101|\n",
            "|tt0440154| 86|  tvMovie|Boogie special: 5...|Boogie special: 5...|      0|     2003|   null|          26.0|   Documentary,Music|             26|            0|             26|    0:26|1970-01-01 00:26:00|  00:26|          1.0|       7|\n",
            "|tt0440155| 87|  tvMovie|Boogie special: M...|Boogie special: M...|      0|     2003|   null|          28.0|Biography,Documen...|             28|            0|             28|    0:28|1970-01-01 00:28:00|  00:28|          7.7|      13|\n",
            "|tt0440157| 88|tvSpecial|The British Comed...|The British Comed...|      0|     2004|   null|         125.0|              Comedy|            125|            2|              5|     2:5|1970-01-01 02:05:00|  02:05|          6.2|      18|\n",
            "|tt0440158| 89|    movie|      Broken Bridges|      Broken Bridges|      0|     2004|   null|          96.0|               Drama|             96|            1|             36|    1:36|1970-01-01 01:36:00|  01:36|          7.9|      32|\n",
            "|tt0440167| 92|  tvMovie|   Burgers/Reizigers|   Burgers/Reizigers|      0|     2005|   null|          60.0|        Comedy,Drama|             60|            1|              0|     1:0|1970-01-01 01:00:00|  01:00|          6.3|      15|\n",
            "|tt0440175| 99|    movie|          Cabra-Cega|          Cabra-Cega|      0|     2004|   null|         107.0|               Drama|            107|            1|             47|    1:47|1970-01-01 01:47:00|  01:47|          6.3|     247|\n",
            "|tt0440186|106|    movie|            Cascalho|            Cascalho|      0|     2004|   null|         104.0|               Drama|            104|            1|             44|    1:44|1970-01-01 01:44:00|  01:44|          6.7|       7|\n",
            "|tt0440192|110|  tvMovie|Celebrate the Sou...|Celebrate the Sou...|      0|     2005|   null|          60.0| Documentary,Musical|             60|            1|              0|     1:0|1970-01-01 01:00:00|  01:00|          7.6|       9|\n",
            "|tt0440200|114|    movie|Love Is a Many St...|Cheng chong chui ...|      0|     2004|   null|          95.0|        Comedy,Crime|             95|            1|             35|    1:35|1970-01-01 01:35:00|  01:35|          5.5|     127|\n",
            "|tt0440202|116|    video|The China Syndrom...|The China Syndrom...|      0|     2004|   null|          28.0|   Documentary,Short|             28|            0|             28|    0:28|1970-01-01 00:28:00|  00:28|          5.5|      21|\n",
            "|tt0440203|117|    video|The China Syndrom...|The China Syndrom...|      0|     2004|   null|          30.0|   Documentary,Short|             30|            0|             30|    0:30|1970-01-01 00:30:00|  00:30|          4.9|      17|\n",
            "|tt0440205|118|  tvMovie|    Christmas Lights|    Christmas Lights|      0|     2004|   null|          68.0|        Comedy,Drama|             68|            1|              8|     1:8|1970-01-01 01:08:00|  01:08|          6.7|     250|\n",
            "+---------+---+---------+--------------------+--------------------+-------+---------+-------+--------------+--------------------+---------------+-------------+---------------+--------+-------------------+-------+-------------+--------+\n",
            "only showing top 20 rows\n",
            "\n"
          ],
          "name": "stdout"
        }
      ]
    },
    {
      "cell_type": "code",
      "metadata": {
        "id": "qJ5vOWt9zKDa"
      },
      "source": [
        "#creating temp view of the table having all the columns needed\n",
        "join_films.createOrReplaceTempView('new_join_table')"
      ],
      "execution_count": null,
      "outputs": []
    },
    {
      "cell_type": "code",
      "metadata": {
        "id": "dIMRtvNawSJh"
      },
      "source": [
        "# made tables of the columns required by question two\n",
        "films_table = spark.sql(\"select tconst,titletype,originaltitle,averagerating,runtime,genres,isadult from new_join_table \")"
      ],
      "execution_count": null,
      "outputs": []
    },
    {
      "cell_type": "code",
      "metadata": {
        "colab": {
          "base_uri": "https://localhost:8080/"
        },
        "id": "qVcaBCzxwSGp",
        "outputId": "8ea1e6f4-c7ee-407e-eec3-950fb644f6cd"
      },
      "source": [
        "#showing the new table\n",
        "films_table.show()"
      ],
      "execution_count": null,
      "outputs": [
        {
          "output_type": "stream",
          "text": [
            "+---------+---------+--------------------+-------------+-------+--------------------+-------+\n",
            "|   tconst|titletype|       originaltitle|averagerating|runtime|              genres|isadult|\n",
            "+---------+---------+--------------------+-------------+-------+--------------------+-------+\n",
            "|tt0439997|    movie|           500 Almas|          7.2|  01:45|         Documentary|      0|\n",
            "|tt0440003|    movie|         A1 tou tiao|          5.9|  01:35|    Mystery,Thriller|      0|\n",
            "|tt0440004|  tvMovie| AD/BC: A Rock Opera|          7.4|  00:30|      Comedy,Musical|      0|\n",
            "|tt0440016|    movie|       Ah ma yau nan|          5.5|  01:33|        Comedy,Crime|      0|\n",
            "|tt0440067|    movie|      Bau lit do see|          5.4|  01:39|              Action|      0|\n",
            "|tt0440078|  tvMovie|  The Band Aid Story|          8.1|  01:35|         Documentary|      0|\n",
            "|tt0440084|  tvMovie|A Beachcombers Ch...|          7.0|  02:00|Adventure,Comedy,...|      0|\n",
            "|tt0440149|    video|Blink 182: Punk P...|          4.1|  01:01|         Documentary|      0|\n",
            "|tt0440154|  tvMovie|Boogie special: 5...|          1.0|  00:26|   Documentary,Music|      0|\n",
            "|tt0440155|  tvMovie|Boogie special: M...|          7.7|  00:28|Biography,Documen...|      0|\n",
            "|tt0440157|tvSpecial|The British Comed...|          6.2|  02:05|              Comedy|      0|\n",
            "|tt0440158|    movie|      Broken Bridges|          7.9|  01:36|               Drama|      0|\n",
            "|tt0440167|  tvMovie|   Burgers/Reizigers|          6.3|  01:00|        Comedy,Drama|      0|\n",
            "|tt0440175|    movie|          Cabra-Cega|          6.3|  01:47|               Drama|      0|\n",
            "|tt0440186|    movie|            Cascalho|          6.7|  01:44|               Drama|      0|\n",
            "|tt0440192|  tvMovie|Celebrate the Sou...|          7.6|  01:00| Documentary,Musical|      0|\n",
            "|tt0440200|    movie|Cheng chong chui ...|          5.5|  01:35|        Comedy,Crime|      0|\n",
            "|tt0440202|    video|The China Syndrom...|          5.5|  00:28|   Documentary,Short|      0|\n",
            "|tt0440203|    video|The China Syndrom...|          4.9|  00:30|   Documentary,Short|      0|\n",
            "|tt0440205|  tvMovie|    Christmas Lights|          6.7|  01:08|        Comedy,Drama|      0|\n",
            "+---------+---------+--------------------+-------------+-------+--------------------+-------+\n",
            "only showing top 20 rows\n",
            "\n"
          ],
          "name": "stdout"
        }
      ]
    },
    {
      "cell_type": "markdown",
      "metadata": {
        "id": "-s6TPcD05ynZ"
      },
      "source": [
        "**QUESTION 3**"
      ]
    },
    {
      "cell_type": "code",
      "metadata": {
        "id": "MAqavg4I48tx"
      },
      "source": [
        " #using sql in Spark just requires you to call spark.sql(<sql>) and showing the data.\n",
        "#here we are peeking at the data using SparkSQL\n",
        "producer_names= spark.sql(\"select primaryname,knownFor  from profession where primaryprofession like '%producer%' \")"
      ],
      "execution_count": null,
      "outputs": []
    },
    {
      "cell_type": "code",
      "metadata": {
        "colab": {
          "base_uri": "https://localhost:8080/"
        },
        "id": "cCFdu_Z948bF",
        "outputId": "638e0765-5f3c-417e-e145-7aa40e3ae36a"
      },
      "source": [
        "producer_names.show()"
      ],
      "execution_count": null,
      "outputs": [
        {
          "output_type": "stream",
          "text": [
            "+------------------+---------+\n",
            "|       primaryname| knownFor|\n",
            "+------------------+---------+\n",
            "|      Mark Kleiman|tt0972846|\n",
            "|     Andreas Klein|tt0311429|\n",
            "|Bonnie Sherr Klein|tt5492464|\n",
            "| Ellyn Klein Golub|tt0268397|\n",
            "|       Frank Klein|tt0297284|\n",
            "|        Greg Klein|tt0343314|\n",
            "|        Jeff Kline|tt0236908|\n",
            "|       Jonah Klein|tt1098356|\n",
            "|       Kalle Klein|tt3814852|\n",
            "|       Laura Klein|tt2910274|\n",
            "|       Linda Klein|tt4572514|\n",
            "|         Lou Klein|tt2357423|\n",
            "|  Michael L. Klein|tt0330419|\n",
            "|    Nicholas Klein|tt0120753|\n",
            "|       Peter Klein|tt1520498|\n",
            "|     Richard Klein|tt0386245|\n",
            "|       Robin Klein|tt2419934|\n",
            "|    Seth Kleinberg|tt1194173|\n",
            "|    Seth Kleinberg|tt0800080|\n",
            "|      Thilo Kleine|tt0161860|\n",
            "+------------------+---------+\n",
            "only showing top 20 rows\n",
            "\n"
          ],
          "name": "stdout"
        }
      ]
    },
    {
      "cell_type": "code",
      "metadata": {
        "id": "TJ2Msujh48Vo"
      },
      "source": [
        "#creating producers table by joining producers_names and films table using tconst and known for values as links\n",
        "producer_table = producer_names.join(films, producer_names.knownFor == films.tconst, how='inner')\n"
      ],
      "execution_count": null,
      "outputs": []
    },
    {
      "cell_type": "code",
      "metadata": {
        "colab": {
          "base_uri": "https://localhost:8080/"
        },
        "id": "qlaTY9qEBD4e",
        "outputId": "d77f1744-f843-4005-cd9f-14611c1e63fd"
      },
      "source": [
        "#display table\n",
        "producer_table.show()"
      ],
      "execution_count": null,
      "outputs": [
        {
          "output_type": "stream",
          "text": [
            "+--------------------+---------+---------+---------+--------------------+-------------+-------+--------------------+-------+\n",
            "|         primaryname| knownFor|   tconst|titletype|       originaltitle|averagerating|runtime|              genres|isadult|\n",
            "+--------------------+---------+---------+---------+--------------------+-------------+-------+--------------------+-------+\n",
            "|         Jimmy Smits|tt0121766|tt0121766|    movie|Star Wars: Episod...|          7.5|  02:20|Action,Adventure,...|      0|\n",
            "|     Olivia McCallum|tt0121766|tt0121766|    movie|Star Wars: Episod...|          7.5|  02:20|Action,Adventure,...|      0|\n",
            "|       Leigh Ann Fan|tt0121766|tt0121766|    movie|Star Wars: Episod...|          7.5|  02:20|Action,Adventure,...|      0|\n",
            "| Eric D. Christensen|tt0121766|tt0121766|    movie|Star Wars: Episod...|          7.5|  02:20|Action,Adventure,...|      0|\n",
            "|         Paul Hilton|tt0121766|tt0121766|    movie|Star Wars: Episod...|          7.5|  02:20|Action,Adventure,...|      0|\n",
            "|       Erik A. Baron|tt0121766|tt0121766|    movie|Star Wars: Episod...|          7.5|  02:20|Action,Adventure,...|      0|\n",
            "|         Iain McCaig|tt0121766|tt0121766|    movie|Star Wars: Episod...|          7.5|  02:20|Action,Adventure,...|      0|\n",
            "|         Carl Miller|tt0121766|tt0121766|    movie|Star Wars: Episod...|          7.5|  02:20|Action,Adventure,...|      0|\n",
            "| Alexandra Junginger|tt0121766|tt0121766|    movie|Star Wars: Episod...|          7.5|  02:20|Action,Adventure,...|      0|\n",
            "|      Fileena Bahris|tt0121766|tt0121766|    movie|Star Wars: Episod...|          7.5|  02:20|Action,Adventure,...|      0|\n",
            "|        Ciara McAvoy|tt0121766|tt0121766|    movie|Star Wars: Episod...|          7.5|  02:20|Action,Adventure,...|      0|\n",
            "|Maurizio Licciard...|tt0121766|tt0121766|    movie|Star Wars: Episod...|          7.5|  02:20|Action,Adventure,...|      0|\n",
            "|         Nick Bernyk|tt0121766|tt0121766|    movie|Star Wars: Episod...|          7.5|  02:20|Action,Adventure,...|      0|\n",
            "|          Ahmed Best|tt0121766|tt0121766|    movie|Star Wars: Episod...|          7.5|  02:20|Action,Adventure,...|      0|\n",
            "|       Ian Bickerton|tt0121766|tt0121766|    movie|Star Wars: Episod...|          7.5|  02:20|Action,Adventure,...|      0|\n",
            "|          Jack Kelly|tt0121766|tt0121766|    movie|Star Wars: Episod...|          7.5|  02:20|Action,Adventure,...|      0|\n",
            "|Jacqui Louez Schoorl|tt0121766|tt0121766|    movie|Star Wars: Episod...|          7.5|  02:20|Action,Adventure,...|      0|\n",
            "|        Sarita Patel|tt0121766|tt0121766|    movie|Star Wars: Episod...|          7.5|  02:20|Action,Adventure,...|      0|\n",
            "|       Ardees Rabang|tt0121766|tt0121766|    movie|Star Wars: Episod...|          7.5|  02:20|Action,Adventure,...|      0|\n",
            "|    Temuera Morrison|tt0121766|tt0121766|    movie|Star Wars: Episod...|          7.5|  02:20|Action,Adventure,...|      0|\n",
            "+--------------------+---------+---------+---------+--------------------+-------------+-------+--------------------+-------+\n",
            "only showing top 20 rows\n",
            "\n"
          ],
          "name": "stdout"
        }
      ]
    },
    {
      "cell_type": "code",
      "metadata": {
        "id": "tKIOsBtsRbWf"
      },
      "source": [
        ""
      ],
      "execution_count": null,
      "outputs": []
    },
    {
      "cell_type": "markdown",
      "metadata": {
        "id": "t2HUXmRyFvT7"
      },
      "source": [
        "**  QUESTION 4**"
      ]
    },
    {
      "cell_type": "code",
      "metadata": {
        "id": "ruAqGP9aAOQf"
      },
      "source": [
        "# Read in data from S3 Bucket\n",
        "from pyspark import SparkFiles\n",
        "url = \"https://2u-data-curriculum-team.s3.amazonaws.com/dataviz-netflix/filteredPrincipals.csv\"\n",
        "spark.sparkContext.addFile(url)\n",
        "principal_df = spark.read.csv(SparkFiles.get(\"filteredPrincipals.csv\"), sep=\",\", header=True)"
      ],
      "execution_count": null,
      "outputs": []
    },
    {
      "cell_type": "code",
      "metadata": {
        "id": "Sc6sh-EP_6os",
        "colab": {
          "base_uri": "https://localhost:8080/"
        },
        "outputId": "75f20ce6-7a63-483d-ecc8-851456ba5362"
      },
      "source": [
        "#display \n",
        "principal_df.show()"
      ],
      "execution_count": null,
      "outputs": [
        {
          "output_type": "stream",
          "text": [
            "+----------+--------+---------+---------------+----+-----------------+\n",
            "|    tconst|ordering|   nconst|       category| job|       characters|\n",
            "+----------+--------+---------+---------------+----+-----------------+\n",
            "|tt12189034|       6|nm5943320|          actor|null|      \"[\"\"Lee\"\"]\"|\n",
            "|tt12189034|       6|nm5943320|          actor|null|      \"[\"\"Lee\"\"]\"|\n",
            "|tt12189034|       6|nm5943320|          actor|null|      \"[\"\"Lee\"\"]\"|\n",
            "|tt12189034|       6|nm5943320|          actor|null|      \"[\"\"Lee\"\"]\"|\n",
            "|tt12189034|       8|nm7672770|          actor|null|\"[\"\"Detective\"\"]\"|\n",
            "|tt12189034|       8|nm7672770|          actor|null|\"[\"\"Detective\"\"]\"|\n",
            "|tt12189034|       8|nm7672770|          actor|null|\"[\"\"Detective\"\"]\"|\n",
            "|tt12189034|       8|nm7672770|          actor|null|\"[\"\"Detective\"\"]\"|\n",
            "|tt12190374|       3|nm0767339|cinematographer|null|             null|\n",
            "|tt12190374|       3|nm0767339|cinematographer|null|             null|\n",
            "|tt12190374|       3|nm0767339|cinematographer|null|             null|\n",
            "|tt12190374|       3|nm0767339|cinematographer|null|             null|\n",
            "| tt1219128|       2|nm2698001|        actress|null|             null|\n",
            "| tt1219128|       2|nm2698001|        actress|null|             null|\n",
            "| tt1219128|       2|nm2698001|        actress|null|             null|\n",
            "| tt1219128|       2|nm2698001|        actress|null|             null|\n",
            "|tt12191898|       2|nm8435168|          actor|null|    \"[\"\"Quavo\"\"]\"|\n",
            "|tt12191898|       2|nm8435168|          actor|null|    \"[\"\"Quavo\"\"]\"|\n",
            "|tt12191898|       2|nm8435168|          actor|null|    \"[\"\"Quavo\"\"]\"|\n",
            "|tt12191898|       2|nm8435168|          actor|null|    \"[\"\"Quavo\"\"]\"|\n",
            "+----------+--------+---------+---------------+----+-----------------+\n",
            "only showing top 20 rows\n",
            "\n"
          ],
          "name": "stdout"
        }
      ]
    },
    {
      "cell_type": "code",
      "metadata": {
        "id": "cQTSVcrFLJ2V"
      },
      "source": [
        "#selecting only needed columns\n",
        "uniq_char = principal_df.select('characters','tconst','nconst').distinct()"
      ],
      "execution_count": null,
      "outputs": []
    },
    {
      "cell_type": "code",
      "metadata": {
        "colab": {
          "base_uri": "https://localhost:8080/"
        },
        "id": "qvnO0q1zMWcS",
        "outputId": "6ff8538c-008b-4180-f981-c4f652c571f4"
      },
      "source": [
        "uniq_char.show()"
      ],
      "execution_count": null,
      "outputs": [
        {
          "output_type": "stream",
          "text": [
            "+--------------------+----------+----------+\n",
            "|          characters|    tconst|    nconst|\n",
            "+--------------------+----------+----------+\n",
            "|                null|tt12198800|nm10990579|\n",
            "|                null| tt9780330| nm1278480|\n",
            "|\"[\"\"Oton Miyazawa...| tt0444902| nm0337751|\n",
            "|                null| tt4991384| nm1333687|\n",
            "|     \"[\"\"El cura\"\"]\"| tt3286888| nm0525599|\n",
            "|                null|tt13648222| nm0055656|\n",
            "|                null|tt11230846| nm0930782|\n",
            "|        \"[\"\"Self\"\"]\"| tt6640526| nm8843903|\n",
            "|                null| tt0938691| nm1951277|\n",
            "|                null| tt0940852| nm2523449|\n",
            "|       \"[\"\"Horse\"\"]\"| tt8982042| nm6378490|\n",
            "|                null| tt0444401| nm0820715|\n",
            "|        \"[\"\"Self\"\"]\"| tt5676108| nm5348537|\n",
            "|                null| tt0455620| nm1031112|\n",
            "|                null| tt3294878| nm6048763|\n",
            "|                null| tt1734072| nm0765405|\n",
            "|        \"[\"\"Riku\"\"]\"|tt13628470| nm1515534|\n",
            "|   \"[\"\"Self - Winner| tt1366325| nm2233157|\n",
            "|                null| tt1727380| nm3762381|\n",
            "|                null| tt0937388| nm1484928|\n",
            "+--------------------+----------+----------+\n",
            "only showing top 20 rows\n",
            "\n"
          ],
          "name": "stdout"
        }
      ]
    },
    {
      "cell_type": "code",
      "metadata": {
        "id": "ybiImInqV9wH"
      },
      "source": [
        "#joining characters and film tables \n",
        "char_table1 = uniq_char.join(films, uniq_char.tconst == films.tconst, how='inner')"
      ],
      "execution_count": null,
      "outputs": []
    },
    {
      "cell_type": "code",
      "metadata": {
        "colab": {
          "base_uri": "https://localhost:8080/"
        },
        "id": "dHPOgZ1THQur",
        "outputId": "af8f1140-46d1-4338-e5e1-587576685380"
      },
      "source": [
        "char_table1.show()\n"
      ],
      "execution_count": null,
      "outputs": [
        {
          "output_type": "stream",
          "text": [
            "+--------------------+---------+---------+---------+---------+--------------------+-------------+-------+--------------------+-------+\n",
            "|          characters|   tconst|   nconst|   tconst|titletype|       originaltitle|averagerating|runtime|              genres|isadult|\n",
            "+--------------------+---------+---------+---------+---------+--------------------+-------------+-------+--------------------+-------+\n",
            "|  \"[\"\"Mace Windu\"\"]\"|tt0121766|nm0000168|tt0121766|    movie|Star Wars: Episod...|          7.5|  02:20|Action,Adventure,...|      0|\n",
            "|                null|tt0121766|nm0059242|tt0121766|    movie|Star Wars: Episod...|          7.5|  02:20|Action,Adventure,...|      0|\n",
            "|                null|tt0121766|nm0123785|tt0121766|    movie|Star Wars: Episod...|          7.5|  02:20|Action,Adventure,...|      0|\n",
            "|                null|tt0121766|nm0000184|tt0121766|    movie|Star Wars: Episod...|          7.5|  02:20|Action,Adventure,...|      0|\n",
            "|                null|tt0121766|nm0002354|tt0121766|    movie|Star Wars: Episod...|          7.5|  02:20|Action,Adventure,...|      0|\n",
            "|                null|tt0121766|nm0564768|tt0121766|    movie|Star Wars: Episod...|          7.5|  02:20|Action,Adventure,...|      0|\n",
            "|\"[\"\"Obi-Wan Kenob...|tt0121766|nm0000191|tt0121766|    movie|Star Wars: Episod...|          7.5|  02:20|Action,Adventure,...|      0|\n",
            "|                null|tt0121766|nm0005897|tt0121766|    movie|Star Wars: Episod...|          7.5|  02:20|Action,Adventure,...|      0|\n",
            "|       \"[\"\"Padmé\"\"]\"|tt0121766|nm0000204|tt0121766|    movie|Star Wars: Episod...|          7.5|  02:20|Action,Adventure,...|      0|\n",
            "|\"[\"\"Anakin Skywal...|tt0121766|nm0159789|tt0121766|    movie|Star Wars: Episod...|          7.5|  02:20|Action,Adventure,...|      0|\n",
            "|      \"[\"\"B.E.N.\"\"]\"|tt0133240|nm0001737|tt0133240|    movie|     Treasure Planet|          7.2|  01:35|Adventure,Animati...|      0|\n",
            "|                null|tt0133240|nm0166256|tt0133240|    movie|     Treasure Planet|          7.2|  01:35|Adventure,Animati...|      0|\n",
            "|                null|tt0133240|nm0615780|tt0133240|    movie|     Treasure Planet|          7.2|  01:35|Adventure,Animati...|      0|\n",
            "|                null|tt0133240|nm0972395|tt0133240|    movie|     Treasure Planet|          7.2|  01:35|Adventure,Animati...|      0|\n",
            "|                null|tt0133240|nm0829044|tt0133240|    movie|     Treasure Planet|          7.2|  01:35|Adventure,Animati...|      0|\n",
            "| \"[\"\"Jim Hawkins\"\"]\"|tt0133240|nm0330687|tt0133240|    movie|     Treasure Planet|          7.2|  01:35|Adventure,Animati...|      0|\n",
            "|                null|tt0133240|nm0254645|tt0133240|    movie|     Treasure Planet|          7.2|  01:35|Adventure,Animati...|      0|\n",
            "|                null|tt0133240|nm0744429|tt0133240|    movie|     Treasure Planet|          7.2|  01:35|Adventure,Animati...|      0|\n",
            "|   \"[\"\"Mr. Arrow\"\"]\"|tt0133240|nm0001975|tt0133240|    movie|     Treasure Planet|          7.2|  01:35|Adventure,Animati...|      0|\n",
            "|\"[\"\"Captain Ameli...|tt0133240|nm0000668|tt0133240|    movie|     Treasure Planet|          7.2|  01:35|Adventure,Animati...|      0|\n",
            "+--------------------+---------+---------+---------+---------+--------------------+-------------+-------+--------------------+-------+\n",
            "only showing top 20 rows\n",
            "\n"
          ],
          "name": "stdout"
        }
      ]
    },
    {
      "cell_type": "code",
      "metadata": {
        "id": "eAhIxXHVPeCN"
      },
      "source": [
        "#character table joined with actors and film tables\n",
        "characters = char_table1.join(pri_prof, char_table1.nconst == pri_prof.nconst, how='inner')"
      ],
      "execution_count": null,
      "outputs": []
    },
    {
      "cell_type": "code",
      "metadata": {
        "colab": {
          "base_uri": "https://localhost:8080/"
        },
        "id": "eps_tVOjRGNv",
        "outputId": "2ef88863-d561-486c-eaf0-83b766f551c5"
      },
      "source": [
        "characters.show()"
      ],
      "execution_count": null,
      "outputs": [
        {
          "output_type": "stream",
          "text": [
            "+--------------------+----------+---------+----------+---------+--------------------+-------------+-------+--------------------+-------+---------+-----------+--------------------+---------+---------+\n",
            "|          characters|    tconst|   nconst|    tconst|titletype|       originaltitle|averagerating|runtime|              genres|isadult|   nconst|primaryname|   primaryprofession|birthyear|deathyear|\n",
            "+--------------------+----------+---------+----------+---------+--------------------+-------------+-------+--------------------+-------+---------+-----------+--------------------+---------+---------+\n",
            "|\"[\"\"Commissioner ...| tt1345836|nm0000198| tt1345836|    movie|The Dark Knight R...|          8.4|  02:44|    Action,Adventure|      0|nm0000198|Gary Oldman|actor,soundtrack,...|     1958|     null|\n",
            "|\"[\"\"Commissioner ...| tt1345836|nm0000198| tt1345836|    movie|The Dark Knight R...|          8.4|  02:44|    Action,Adventure|      0|nm0000198|Gary Oldman|actor,soundtrack,...|     1958|     null|\n",
            "|\"[\"\"Commissioner ...| tt1345836|nm0000198| tt1345836|    movie|The Dark Knight R...|          8.4|  02:44|    Action,Adventure|      0|nm0000198|Gary Oldman|actor,soundtrack,...|     1958|     null|\n",
            "|        \"[\"\"Self\"\"]\"| tt5244512|nm0000198| tt5244512|    video|Dawn of the Plane...|          6.9|  00:18|               Short|      0|nm0000198|Gary Oldman|actor,soundtrack,...|     1958|     null|\n",
            "|        \"[\"\"Self\"\"]\"| tt5244512|nm0000198| tt5244512|    video|Dawn of the Plane...|          6.9|  00:18|               Short|      0|nm0000198|Gary Oldman|actor,soundtrack,...|     1958|     null|\n",
            "|        \"[\"\"Self\"\"]\"| tt5244512|nm0000198| tt5244512|    video|Dawn of the Plane...|          6.9|  00:18|               Short|      0|nm0000198|Gary Oldman|actor,soundtrack,...|     1958|     null|\n",
            "|\"[\"\"Self - Actor\"\"]\"| tt0485604|nm0000198| tt0485604|    video|       Cape and Cowl|          6.8|  00:08|   Documentary,Short|      0|nm0000198|Gary Oldman|actor,soundtrack,...|     1958|     null|\n",
            "|\"[\"\"Self - Actor\"\"]\"| tt0485604|nm0000198| tt0485604|    video|       Cape and Cowl|          6.8|  00:08|   Documentary,Short|      0|nm0000198|Gary Oldman|actor,soundtrack,...|     1958|     null|\n",
            "|\"[\"\"Self - Actor\"\"]\"| tt0485604|nm0000198| tt0485604|    video|       Cape and Cowl|          6.8|  00:08|   Documentary,Short|      0|nm0000198|Gary Oldman|actor,soundtrack,...|     1958|     null|\n",
            "|         \"[\"\"Rocky\"\"| tt3239932|nm0000198| tt3239932|    movie|True Crime: The M...|          8.1|  01:27|         Documentary|      0|nm0000198|Gary Oldman|actor,soundtrack,...|     1958|     null|\n",
            "|         \"[\"\"Rocky\"\"| tt3239932|nm0000198| tt3239932|    movie|True Crime: The M...|          8.1|  01:27|         Documentary|      0|nm0000198|Gary Oldman|actor,soundtrack,...|     1958|     null|\n",
            "|         \"[\"\"Rocky\"\"| tt3239932|nm0000198| tt3239932|    movie|True Crime: The M...|          8.1|  01:27|         Documentary|      0|nm0000198|Gary Oldman|actor,soundtrack,...|     1958|     null|\n",
            "|\"[\"\"Shelly Runyon...| tt0208874|nm0000198| tt0208874|    movie|       The Contender|          6.9|  02:06|      Drama,Thriller|      0|nm0000198|Gary Oldman|actor,soundtrack,...|     1958|     null|\n",
            "|\"[\"\"Shelly Runyon...| tt0208874|nm0000198| tt0208874|    movie|       The Contender|          6.9|  02:06|      Drama,Thriller|      0|nm0000198|Gary Oldman|actor,soundtrack,...|     1958|     null|\n",
            "|\"[\"\"Shelly Runyon...| tt0208874|nm0000198| tt0208874|    movie|       The Contender|          6.9|  02:06|      Drama,Thriller|      0|nm0000198|Gary Oldman|actor,soundtrack,...|     1958|     null|\n",
            "|        \"[\"\"Self\"\"]\"| tt0996924|nm0000198| tt0996924|    video|   Conjuring a Scene|          7.0|  00:15|   Documentary,Short|      0|nm0000198|Gary Oldman|actor,soundtrack,...|     1958|     null|\n",
            "|        \"[\"\"Self\"\"]\"| tt0996924|nm0000198| tt0996924|    video|   Conjuring a Scene|          7.0|  00:15|   Documentary,Short|      0|nm0000198|Gary Oldman|actor,soundtrack,...|     1958|     null|\n",
            "|        \"[\"\"Self\"\"]\"| tt0996924|nm0000198| tt0996924|    video|   Conjuring a Scene|          7.0|  00:15|   Documentary,Short|      0|nm0000198|Gary Oldman|actor,soundtrack,...|     1958|     null|\n",
            "|        \"[\"\"Self\"\"]\"| tt0447827|nm0000198| tt0447827|  tvMovie|Alan Clarke: His ...|          6.8|  00:26|         Documentary|      0|nm0000198|Gary Oldman|actor,soundtrack,...|     1958|     null|\n",
            "|        \"[\"\"Self\"\"]\"| tt0447827|nm0000198| tt0447827|  tvMovie|Alan Clarke: His ...|          6.8|  00:26|         Documentary|      0|nm0000198|Gary Oldman|actor,soundtrack,...|     1958|     null|\n",
            "|        \"[\"\"Self\"\"]\"| tt0447827|nm0000198| tt0447827|  tvMovie|Alan Clarke: His ...|          6.8|  00:26|         Documentary|      0|nm0000198|Gary Oldman|actor,soundtrack,...|     1958|     null|\n",
            "|        \"[\"\"Self\"\"]\"|tt10233836|nm0000198|tt10233836| tvSeries|       Savage Builds|          8.2|  01:00|         Documentary|      0|nm0000198|Gary Oldman|actor,soundtrack,...|     1958|     null|\n",
            "|        \"[\"\"Self\"\"]\"|tt10233836|nm0000198|tt10233836| tvSeries|       Savage Builds|          8.2|  01:00|         Documentary|      0|nm0000198|Gary Oldman|actor,soundtrack,...|     1958|     null|\n",
            "|        \"[\"\"Self\"\"]\"|tt10233836|nm0000198|tt10233836| tvSeries|       Savage Builds|          8.2|  01:00|         Documentary|      0|nm0000198|Gary Oldman|actor,soundtrack,...|     1958|     null|\n",
            "|     \"[\"\"Dreyfus\"\"]\"| tt2103281|nm0000198| tt2103281|    movie|Dawn of the Plane...|          7.6|  02:10|Action,Adventure,...|      0|nm0000198|Gary Oldman|actor,soundtrack,...|     1958|     null|\n",
            "|     \"[\"\"Dreyfus\"\"]\"| tt2103281|nm0000198| tt2103281|    movie|Dawn of the Plane...|          7.6|  02:10|Action,Adventure,...|      0|nm0000198|Gary Oldman|actor,soundtrack,...|     1958|     null|\n",
            "|     \"[\"\"Dreyfus\"\"]\"| tt2103281|nm0000198| tt2103281|    movie|Dawn of the Plane...|          7.6|  02:10|Action,Adventure,...|      0|nm0000198|Gary Oldman|actor,soundtrack,...|     1958|     null|\n",
            "|        \"[\"\"Self\"\"]\"| tt1074939|nm0000198| tt1074939|  tvMovie|Batman Begins: Be...|          7.0|  00:23|         Documentary|      0|nm0000198|Gary Oldman|actor,soundtrack,...|     1958|     null|\n",
            "|        \"[\"\"Self\"\"]\"| tt1074939|nm0000198| tt1074939|  tvMovie|Batman Begins: Be...|          7.0|  00:23|         Documentary|      0|nm0000198|Gary Oldman|actor,soundtrack,...|     1958|     null|\n",
            "|        \"[\"\"Self\"\"]\"| tt1074939|nm0000198| tt1074939|  tvMovie|Batman Begins: Be...|          7.0|  00:23|         Documentary|      0|nm0000198|Gary Oldman|actor,soundtrack,...|     1958|     null|\n",
            "|\"[\"\"Herman Mankie...|tt10618286|nm0000198|tt10618286|    movie|                Mank|          7.1|  02:11|Biography,Comedy,...|      0|nm0000198|Gary Oldman|actor,soundtrack,...|     1958|     null|\n",
            "|\"[\"\"Herman Mankie...|tt10618286|nm0000198|tt10618286|    movie|                Mank|          7.1|  02:11|Biography,Comedy,...|      0|nm0000198|Gary Oldman|actor,soundtrack,...|     1958|     null|\n",
            "|\"[\"\"Herman Mankie...|tt10618286|nm0000198|tt10618286|    movie|                Mank|          7.1|  02:11|Biography,Comedy,...|      0|nm0000198|Gary Oldman|actor,soundtrack,...|     1958|     null|\n",
            "|      \"[\"\"Priest\"\"]\"| tt3038760|nm0000198| tt3038760|    video|David Bowie: The ...|          8.3|  00:03|  Horror,Music,Short|      0|nm0000198|Gary Oldman|actor,soundtrack,...|     1958|     null|\n",
            "|      \"[\"\"Priest\"\"]\"| tt3038760|nm0000198| tt3038760|    video|David Bowie: The ...|          8.3|  00:03|  Horror,Music,Short|      0|nm0000198|Gary Oldman|actor,soundtrack,...|     1958|     null|\n",
            "|      \"[\"\"Priest\"\"]\"| tt3038760|nm0000198| tt3038760|    video|David Bowie: The ...|          8.3|  00:03|  Horror,Music,Short|      0|nm0000198|Gary Oldman|actor,soundtrack,...|     1958|     null|\n",
            "|                null| tt2395259|nm0000198| tt2395259|    video|Jack White: Unstaged|          8.5|   null|               Music|      0|nm0000198|Gary Oldman|actor,soundtrack,...|     1958|     null|\n",
            "|                null| tt2395259|nm0000198| tt2395259|    video|Jack White: Unstaged|          8.5|   null|               Music|      0|nm0000198|Gary Oldman|actor,soundtrack,...|     1958|     null|\n",
            "|                null| tt2395259|nm0000198| tt2395259|    video|Jack White: Unstaged|          8.5|   null|               Music|      0|nm0000198|Gary Oldman|actor,soundtrack,...|     1958|     null|\n",
            "|\"[\"\"Counselor Pey...| tt2461520|nm0000198| tt2461520|    movie|            Man Down|          6.0|  01:30|      Drama,Thriller|      0|nm0000198|Gary Oldman|actor,soundtrack,...|     1958|     null|\n",
            "|\"[\"\"Counselor Pey...| tt2461520|nm0000198| tt2461520|    movie|            Man Down|          6.0|  01:30|      Drama,Thriller|      0|nm0000198|Gary Oldman|actor,soundtrack,...|     1958|     null|\n",
            "|\"[\"\"Counselor Pey...| tt2461520|nm0000198| tt2461520|    movie|            Man Down|          6.0|  01:30|      Drama,Thriller|      0|nm0000198|Gary Oldman|actor,soundtrack,...|     1958|     null|\n",
            "|        \"[\"\"Self\"\"]\"| tt8074606|nm0000198| tt8074606|    video|Darkest Hour: Int...|          6.2|  00:08|               Short|      0|nm0000198|Gary Oldman|actor,soundtrack,...|     1958|     null|\n",
            "|        \"[\"\"Self\"\"]\"| tt8074606|nm0000198| tt8074606|    video|Darkest Hour: Int...|          6.2|  00:08|               Short|      0|nm0000198|Gary Oldman|actor,soundtrack,...|     1958|     null|\n",
            "|        \"[\"\"Self\"\"]\"| tt8074606|nm0000198| tt8074606|    video|Darkest Hour: Int...|          6.2|  00:08|               Short|      0|nm0000198|Gary Oldman|actor,soundtrack,...|     1958|     null|\n",
            "|\"[\"\"Charlie Strom...| tt0307466|nm0000198| tt0307466|    movie|                 Sin|          4.6|  01:47|Crime,Drama,Thriller|      0|nm0000198|Gary Oldman|actor,soundtrack,...|     1958|     null|\n",
            "|\"[\"\"Charlie Strom...| tt0307466|nm0000198| tt0307466|    movie|                 Sin|          4.6|  01:47|Crime,Drama,Thriller|      0|nm0000198|Gary Oldman|actor,soundtrack,...|     1958|     null|\n",
            "|\"[\"\"Charlie Strom...| tt0307466|nm0000198| tt0307466|    movie|                 Sin|          4.6|  01:47|Crime,Drama,Thriller|      0|nm0000198|Gary Oldman|actor,soundtrack,...|     1958|     null|\n",
            "|\"[\"\"George Smiley...| tt6128888|nm0000198| tt6128888|    video|Tinker Tailor Sol...|          7.9|  00:06|         Drama,Short|      0|nm0000198|Gary Oldman|actor,soundtrack,...|     1958|     null|\n",
            "|\"[\"\"George Smiley...| tt6128888|nm0000198| tt6128888|    video|Tinker Tailor Sol...|          7.9|  00:06|         Drama,Short|      0|nm0000198|Gary Oldman|actor,soundtrack,...|     1958|     null|\n",
            "|\"[\"\"George Smiley...| tt6128888|nm0000198| tt6128888|    video|Tinker Tailor Sol...|          7.9|  00:06|         Drama,Short|      0|nm0000198|Gary Oldman|actor,soundtrack,...|     1958|     null|\n",
            "|    \"[\"\"Carnegie\"\"]\"| tt1037705|nm0000198| tt1037705|    movie|     The Book of Eli|          6.9|  01:58|Action,Adventure,...|      0|nm0000198|Gary Oldman|actor,soundtrack,...|     1958|     null|\n",
            "|    \"[\"\"Carnegie\"\"]\"| tt1037705|nm0000198| tt1037705|    movie|     The Book of Eli|          6.9|  01:58|Action,Adventure,...|      0|nm0000198|Gary Oldman|actor,soundtrack,...|     1958|     null|\n",
            "|    \"[\"\"Carnegie\"\"]\"| tt1037705|nm0000198| tt1037705|    movie|     The Book of Eli|          6.9|  01:58|Action,Adventure,...|      0|nm0000198|Gary Oldman|actor,soundtrack,...|     1958|     null|\n",
            "|    \"[\"\"Narrator\"\"]\"| tt1626175|nm0000198| tt1626175|    movie|  One Night in Turin|          6.9|  01:30|   Documentary,Sport|      0|nm0000198|Gary Oldman|actor,soundtrack,...|     1958|     null|\n",
            "|    \"[\"\"Narrator\"\"]\"| tt1626175|nm0000198| tt1626175|    movie|  One Night in Turin|          6.9|  01:30|   Documentary,Sport|      0|nm0000198|Gary Oldman|actor,soundtrack,...|     1958|     null|\n",
            "|    \"[\"\"Narrator\"\"]\"| tt1626175|nm0000198| tt1626175|    movie|  One Night in Turin|          6.9|  01:30|   Documentary,Sport|      0|nm0000198|Gary Oldman|actor,soundtrack,...|     1958|     null|\n",
            "|\"[\"\"Jürgen Mossac...| tt5865326|nm0000198| tt5865326|    movie|      The Laundromat|          6.3|  01:35|  Comedy,Crime,Drama|      0|nm0000198|Gary Oldman|actor,soundtrack,...|     1958|     null|\n",
            "|\"[\"\"Jürgen Mossac...| tt5865326|nm0000198| tt5865326|    movie|      The Laundromat|          6.3|  01:35|  Comedy,Crime,Drama|      0|nm0000198|Gary Oldman|actor,soundtrack,...|     1958|     null|\n",
            "|\"[\"\"Jürgen Mossac...| tt5865326|nm0000198| tt5865326|    movie|      The Laundromat|          6.3|  01:35|  Comedy,Crime,Drama|      0|nm0000198|Gary Oldman|actor,soundtrack,...|     1958|     null|\n",
            "|  \"[\"\"Bob Cratchit\"\"| tt1067106|nm0000198| tt1067106|    movie|   A Christmas Carol|          6.8|  01:36|Animation,Drama,F...|      0|nm0000198|Gary Oldman|actor,soundtrack,...|     1958|     null|\n",
            "|  \"[\"\"Bob Cratchit\"\"| tt1067106|nm0000198| tt1067106|    movie|   A Christmas Carol|          6.8|  01:36|Animation,Drama,F...|      0|nm0000198|Gary Oldman|actor,soundtrack,...|     1958|     null|\n",
            "|  \"[\"\"Bob Cratchit\"\"| tt1067106|nm0000198| tt1067106|    movie|   A Christmas Carol|          6.8|  01:36|Animation,Drama,F...|      0|nm0000198|Gary Oldman|actor,soundtrack,...|     1958|     null|\n",
            "|\"[\"\"Quaker Wells\"\"]\"| tt3014866|nm0000198| tt3014866|    movie|            Criminal|          6.3|  01:53|Action,Sci-Fi,Thr...|      0|nm0000198|Gary Oldman|actor,soundtrack,...|     1958|     null|\n",
            "|\"[\"\"Quaker Wells\"\"]\"| tt3014866|nm0000198| tt3014866|    movie|            Criminal|          6.3|  01:53|Action,Sci-Fi,Thr...|      0|nm0000198|Gary Oldman|actor,soundtrack,...|     1958|     null|\n",
            "|\"[\"\"Quaker Wells\"\"]\"| tt3014866|nm0000198| tt3014866|    movie|            Criminal|          6.3|  01:53|Action,Sci-Fi,Thr...|      0|nm0000198|Gary Oldman|actor,soundtrack,...|     1958|     null|\n",
            "|\"[\"\"Winston Churc...| tt4555426|nm0000198| tt4555426|    movie|        Darkest Hour|          7.4|  02:05|Biography,Drama,H...|      0|nm0000198|Gary Oldman|actor,soundtrack,...|     1958|     null|\n",
            "|\"[\"\"Winston Churc...| tt4555426|nm0000198| tt4555426|    movie|        Darkest Hour|          7.4|  02:05|Biography,Drama,H...|      0|nm0000198|Gary Oldman|actor,soundtrack,...|     1958|     null|\n",
            "|\"[\"\"Winston Churc...| tt4555426|nm0000198| tt4555426|    movie|        Darkest Hour|          7.4|  02:05|Biography,Drama,H...|      0|nm0000198|Gary Oldman|actor,soundtrack,...|     1958|     null|\n",
            "|        \"[\"\"Self\"\"]\"| tt8359666|nm0000198| tt8359666|    video|The Hitman's Body...|          5.8|  00:09|               Short|      0|nm0000198|Gary Oldman|actor,soundtrack,...|     1958|     null|\n",
            "|        \"[\"\"Self\"\"]\"| tt8359666|nm0000198| tt8359666|    video|The Hitman's Body...|          5.8|  00:09|               Short|      0|nm0000198|Gary Oldman|actor,soundtrack,...|     1958|     null|\n",
            "|        \"[\"\"Self\"\"]\"| tt8359666|nm0000198| tt8359666|    video|The Hitman's Body...|          5.8|  00:09|               Short|      0|nm0000198|Gary Oldman|actor,soundtrack,...|     1958|     null|\n",
            "|        \"[\"\"Paul\"\"]\"| tt0473333|nm0000198| tt0473333|    movie|   Bosque de sombras|          5.7|  01:37|Drama,Horror,Thri...|      0|nm0000198|Gary Oldman|actor,soundtrack,...|     1958|     null|\n",
            "|        \"[\"\"Paul\"\"]\"| tt0473333|nm0000198| tt0473333|    movie|   Bosque de sombras|          5.7|  01:37|Drama,Horror,Thri...|      0|nm0000198|Gary Oldman|actor,soundtrack,...|     1958|     null|\n",
            "|        \"[\"\"Paul\"\"]\"| tt0473333|nm0000198| tt0473333|    movie|   Bosque de sombras|          5.7|  01:37|Drama,Horror,Thri...|      0|nm0000198|Gary Oldman|actor,soundtrack,...|     1958|     null|\n",
            "|\"[\"\"George Smiley...| tt1340800|nm0000198| tt1340800|    movie|Tinker Tailor Sol...|          7.1|  02:02|Drama,Mystery,Thr...|      0|nm0000198|Gary Oldman|actor,soundtrack,...|     1958|     null|\n",
            "|\"[\"\"George Smiley...| tt1340800|nm0000198| tt1340800|    movie|Tinker Tailor Sol...|          7.1|  02:02|Drama,Mystery,Thr...|      0|nm0000198|Gary Oldman|actor,soundtrack,...|     1958|     null|\n",
            "|\"[\"\"George Smiley...| tt1340800|nm0000198| tt1340800|    movie|Tinker Tailor Sol...|          7.1|  02:02|Drama,Mystery,Thr...|      0|nm0000198|Gary Oldman|actor,soundtrack,...|     1958|     null|\n",
            "|          \"[\"\"GO\"\"]\"|tt13060796|nm0000198|tt13060796|    movie|A Place Among the...|          5.4|  01:16|Drama,Horror,Thri...|      0|nm0000198|Gary Oldman|actor,soundtrack,...|     1958|     null|\n",
            "|          \"[\"\"GO\"\"]\"|tt13060796|nm0000198|tt13060796|    movie|A Place Among the...|          5.4|  01:16|Drama,Horror,Thri...|      0|nm0000198|Gary Oldman|actor,soundtrack,...|     1958|     null|\n",
            "|          \"[\"\"GO\"\"]\"|tt13060796|nm0000198|tt13060796|    movie|A Place Among the...|          5.4|  01:16|Drama,Horror,Thri...|      0|nm0000198|Gary Oldman|actor,soundtrack,...|     1958|     null|\n",
            "|\"[\"\"Rabbi Sendak\"\"]\"| tt1139668|nm0000198| tt1139668|    movie|          The Unborn|          4.8|  01:28|Drama,Horror,Mystery|      0|nm0000198|Gary Oldman|actor,soundtrack,...|     1958|     null|\n",
            "|\"[\"\"Rabbi Sendak\"\"]\"| tt1139668|nm0000198| tt1139668|    movie|          The Unborn|          4.8|  01:28|Drama,Horror,Mystery|      0|nm0000198|Gary Oldman|actor,soundtrack,...|     1958|     null|\n",
            "|\"[\"\"Rabbi Sendak\"\"]\"| tt1139668|nm0000198| tt1139668|    movie|          The Unborn|          4.8|  01:28|Drama,Horror,Mystery|      0|nm0000198|Gary Oldman|actor,soundtrack,...|     1958|     null|\n",
            "| \"[\"\"Buford Dill\"\"]\"| tt0215516|nm0000198| tt0215516|    movie|       Nobody's Baby|          6.4|  01:50|        Comedy,Drama|      0|nm0000198|Gary Oldman|actor,soundtrack,...|     1958|     null|\n",
            "| \"[\"\"Buford Dill\"\"]\"| tt0215516|nm0000198| tt0215516|    movie|       Nobody's Baby|          6.4|  01:50|        Comedy,Drama|      0|nm0000198|Gary Oldman|actor,soundtrack,...|     1958|     null|\n",
            "| \"[\"\"Buford Dill\"\"]\"| tt0215516|nm0000198| tt0215516|    movie|       Nobody's Baby|          6.4|  01:50|        Comedy,Drama|      0|nm0000198|Gary Oldman|actor,soundtrack,...|     1958|     null|\n",
            "|\"[\"\"William Holtz...| tt1206086|nm0000198| tt1206086|    movie|           Rain Fall|          4.7|  01:51|  Action,Crime,Drama|      0|nm0000198|Gary Oldman|actor,soundtrack,...|     1958|     null|\n",
            "|\"[\"\"William Holtz...| tt1206086|nm0000198| tt1206086|    movie|           Rain Fall|          4.7|  01:51|  Action,Crime,Drama|      0|nm0000198|Gary Oldman|actor,soundtrack,...|     1958|     null|\n",
            "|\"[\"\"William Holtz...| tt1206086|nm0000198| tt1206086|    movie|           Rain Fall|          4.7|  01:51|  Action,Crime,Drama|      0|nm0000198|Gary Oldman|actor,soundtrack,...|     1958|     null|\n",
            "|\"[\"\"Dr. Dennett N...| tt1234721|nm0000198| tt1234721|    movie|             RoboCop|          6.1|  01:57| Action,Crime,Sci-Fi|      0|nm0000198|Gary Oldman|actor,soundtrack,...|     1958|     null|\n",
            "|\"[\"\"Dr. Dennett N...| tt1234721|nm0000198| tt1234721|    movie|             RoboCop|          6.1|  01:57| Action,Crime,Sci-Fi|      0|nm0000198|Gary Oldman|actor,soundtrack,...|     1958|     null|\n",
            "|\"[\"\"Dr. Dennett N...| tt1234721|nm0000198| tt1234721|    movie|             RoboCop|          6.1|  01:57| Action,Crime,Sci-Fi|      0|nm0000198|Gary Oldman|actor,soundtrack,...|     1958|     null|\n",
            "|\"[\"\"Nathaniel She...| tt3922818|nm0000198| tt3922818|    movie|The Space Between Us|          6.4|  02:00|Drama,Romance,Sci-Fi|      0|nm0000198|Gary Oldman|actor,soundtrack,...|     1958|     null|\n",
            "|\"[\"\"Nathaniel She...| tt3922818|nm0000198| tt3922818|    movie|The Space Between Us|          6.4|  02:00|Drama,Romance,Sci-Fi|      0|nm0000198|Gary Oldman|actor,soundtrack,...|     1958|     null|\n",
            "|\"[\"\"Nathaniel She...| tt3922818|nm0000198| tt3922818|    movie|The Space Between Us|          6.4|  02:00|Drama,Romance,Sci-Fi|      0|nm0000198|Gary Oldman|actor,soundtrack,...|     1958|     null|\n",
            "|        \"[\"\"Self\"\"]\"| tt1147494|nm0000198| tt1147494|    video|The Costumes Are ...|          7.3|  00:14|   Documentary,Short|      0|nm0000198|Gary Oldman|actor,soundtrack,...|     1958|     null|\n",
            "|        \"[\"\"Self\"\"]\"| tt1147494|nm0000198| tt1147494|    video|The Costumes Are ...|          7.3|  00:14|   Documentary,Short|      0|nm0000198|Gary Oldman|actor,soundtrack,...|     1958|     null|\n",
            "|        \"[\"\"Self\"\"]\"| tt1147494|nm0000198| tt1147494|    video|The Costumes Are ...|          7.3|  00:14|   Documentary,Short|      0|nm0000198|Gary Oldman|actor,soundtrack,...|     1958|     null|\n",
            "|\"[\"\"Self - Actor\"\"]\"| tt8037300|nm0000198| tt8037300|    video|Big Action in a B...|          4.7|  00:08|Action,Comedy,Doc...|      0|nm0000198|Gary Oldman|actor,soundtrack,...|     1958|     null|\n",
            "+--------------------+----------+---------+----------+---------+--------------------+-------------+-------+--------------------+-------+---------+-----------+--------------------+---------+---------+\n",
            "only showing top 100 rows\n",
            "\n"
          ],
          "name": "stdout"
        }
      ]
    },
    {
      "cell_type": "code",
      "metadata": {
        "id": "9xsmdD1XTXUn"
      },
      "source": [
        "#getting disctinct characters\n",
        "characters_unique = characters.select('characters','titletype','originaltitle','averagerating','runtime','genres','isadult','primaryname','primaryprofession','birthyear','deathyear').distinct()"
      ],
      "execution_count": null,
      "outputs": []
    },
    {
      "cell_type": "code",
      "metadata": {
        "colab": {
          "base_uri": "https://localhost:8080/"
        },
        "id": "GMFatyvLTXIH",
        "outputId": "6ad5a0c2-d54f-45e3-ce7b-4ae936b8913c"
      },
      "source": [
        "characters_unique.show(truncate=False)"
      ],
      "execution_count": null,
      "outputs": [
        {
          "output_type": "stream",
          "text": [
            "+-------------------------------------------------------------------+---------+-----------------------------+-------------+-------+--------------------------+-------+-----------------------+-----------------------------------+---------+---------+\n",
            "|characters                                                         |titletype|originaltitle                |averagerating|runtime|genres                    |isadult|primaryname            |primaryprofession                  |birthyear|deathyear|\n",
            "+-------------------------------------------------------------------+---------+-----------------------------+-------------+-------+--------------------------+-------+-----------------------+-----------------------------------+---------+---------+\n",
            "|\"[\"\"Self\"\"]\"                                                       |tvSpecial|Super Bowl XXXV Halftime Show|5.1          |null   |Music,Sport               |0      |Mary J. Blige          |soundtrack,actress,composer        |1971     |null     |\n",
            "|null                                                               |tvSeries |Como el perro y el gato      |2.0          |null   |Comedy                    |0      |Jimmy Castro           |actor,director,writer              |1987     |null     |\n",
            "|\"[\"\"Guti\"\"]\"                                                       |movie    |Gangster                     |5.1          |02:21  |Romance                   |0      |Saurav Das             |actor                              |null     |null     |\n",
            "|\"[\"\"Rayder\"\"                                                       |movie    |Jackie Goldberg Private Dick |4.6          |01:31  |Comedy                    |0      |Paul Fitzgerald        |actor,director,writer              |1970     |null     |\n",
            "|\"[\"\"Self - Judge\"\"]\"                                               |tvSeries |Slovensko má talent          |4.0          |null   |Game-Show,Music,Reality-TV|0      |Pavol Habera           |soundtrack,actor                   |1962     |null     |\n",
            "|\"[\"\"Narrator\"\"]\"                                                   |tvSeries |The Iraq War                 |7.3          |01:00  |Documentary               |0      |Alex Jennings          |actor,soundtrack                   |1957     |null     |\n",
            "|\"[\"\"San Francesco\"\"]\"                                              |movie    |Il giorno la notte poi l'alba|8.2          |null   |History                   |0      |Francesco Salvi        |actor,writer,music_department      |1953     |null     |\n",
            "|\"[\"\"Self\"\"]\"                                                       |movie    |Der Klang der Stimme         |8.2          |01:22  |Documentary               |0      |Ramón Vargas           |actor,soundtrack                   |null     |null     |\n",
            "|null                                                               |movie    |A Letter from the Past       |7.3          |00:52  |Drama,Mystery             |0      |Shira Arad             |editor,actress,editorial_department|null     |null     |\n",
            "|\"[\"\"Mike Conlon\"\"]\"                                                |movie    |Run All Night                |6.6          |01:54  |Action,Crime,Thriller     |0      |Joel Kinnaman          |actor,producer                     |1979     |null     |\n",
            "|null                                                               |movie    |Fuoco su di me               |6.6          |null   |History                   |0      |Lamberto Lambertini    |writer,director,actor              |null     |null     |\n",
            "|\"[\"\"Misuzo\"\"]\"                                                     |movie    |Daiteiden no yoru ni         |6.8          |02:12  |Drama                     |0      |Haruka Igawa           |actress                            |1976     |null     |\n",
            "|\"[\"\"Sannie Grootboom\"\"]\"                                           |movie    |Forgiveness                  |6.9          |01:52  |Drama                     |0      |Quanita Adams          |actress,writer,miscellaneous       |null     |null     |\n",
            "|\"[\"\"Genie\"\"                                                        |tvSeries |Love Spell                   |5.8          |null   |Fantasy,Romance           |0      |Rayver Cruz            |actor,soundtrack                   |1989     |null     |\n",
            "|\"[\"\"Traolach\"\"]\"                                                   |tvSeries |Aifric                       |7.8          |null   |Family                    |0      |Kevin O'Dwyer          |actor                              |null     |null     |\n",
            "|null                                                               |movie    |The Beach Bum                |5.5          |01:35  |Comedy                    |0      |Charles-Marie Anthonioz|producer,actor,production_manager  |null     |null     |\n",
            "|\"[\"\"Andreas Krugmann\"\"]\"                                           |tvSeries |Alles in Ordnung?            |8.3          |00:23  |Comedy                    |0      |Michael Kupczyk        |director,writer,actor              |null     |null     |\n",
            "|null                                                               |movie    |Walls Have Ears              |6.2          |01:30  |Drama                     |0      |Jean Desire            |actor,producer                     |null     |null     |\n",
            "|null                                                               |movie    |Yi sa bui lai                |7.0          |01:31  |Drama                     |0      |Kearen Pang            |actress,writer,director            |null     |null     |\n",
            "|\"[\"\"DC Akhtar Uddin Khan (as District Commissioner of Ratanpur)\"\"]\"|movie    |Mad_e in Bangladesh          |8.1          |01:46  |Comedy,Drama              |0      |Tariq Anam Khan        |actor,production_manager,producer  |1953     |null     |\n",
            "+-------------------------------------------------------------------+---------+-----------------------------+-------------+-------+--------------------------+-------+-----------------------+-----------------------------------+---------+---------+\n",
            "only showing top 20 rows\n",
            "\n"
          ],
          "name": "stdout"
        }
      ]
    },
    {
      "cell_type": "code",
      "metadata": {
        "id": "X1zrHlDNRI4b"
      },
      "source": [
        "#droping NA from character table\n",
        "characters_table = characters_unique.na.drop()"
      ],
      "execution_count": null,
      "outputs": []
    },
    {
      "cell_type": "code",
      "metadata": {
        "colab": {
          "base_uri": "https://localhost:8080/"
        },
        "id": "5Y78Vx2-ZB85",
        "outputId": "7775fad8-975e-4664-82a6-67e0144a4e05"
      },
      "source": [
        "# final character table joined with film and actors/actresses tables using links\n",
        "characters_table.show()"
      ],
      "execution_count": null,
      "outputs": [
        {
          "output_type": "stream",
          "text": [
            "+--------------------+---------+--------------------+-------------+-------+--------------------+-------+------------------+--------------------+---------+---------+\n",
            "|          characters|titletype|       originaltitle|averagerating|runtime|              genres|isadult|       primaryname|   primaryprofession|birthyear|deathyear|\n",
            "+--------------------+---------+--------------------+-------------+-------+--------------------+-------+------------------+--------------------+---------+---------+\n",
            "|   \"[\"\"Jim Lahey\"\"]\"|  tvMovie|Trailer Park Boys...|          6.0|  01:14|              Comedy|      0|    John Dunsworth|actor,casting_dir...|     1946|     2017|\n",
            "|\"[\"\"Shuichi Aizaw...|  tvMovie|Death Note Rewrit...|          7.5|  02:11|Animation,Mystery...|      0|    Keiji Fujiwara|actor,soundtrack,...|     1964|     2020|\n",
            "| \"[\"\"Donata Fiok\"\"]\"|    movie|      Superprodukcja|          4.7|  01:32|              Comedy|      0|   Anna Przybylska|             actress|     1978|     2014|\n",
            "|        \"[\"\"Self\"\"]\"|    movie|              Trumbo|          7.5|  01:36|Biography,Documen...|      0|     Brian Dennehy|actor,producer,di...|     1938|     2020|\n",
            "|\"[\"\"Skaraia Sacha...|    movie|          Dada Sahib|          4.7|  02:10|        Action,Drama|      0|      Rajan P. Dev|      actor,director|     1954|     2009|\n",
            "|\"[\"\"Dios 'El mona...|    movie|           Pastorela|          6.2|  01:28|      Comedy,Fantasy|      0|     Ernesto Yáñez|               actor|     1946|     2020|\n",
            "|\"[\"\"Amira's Fathe...| tvSeries|   Embratoreyet Meen|          6.4|  00:45|              Comedy|      0|      Izzat Abu-Of|      actor,composer|     1948|     2019|\n",
            "|\"[\"\"Padre de Eloy...|    movie| No mires para abajo|          6.0|  01:25|       Drama,Romance|      0|        Hugo Arana|               actor|     1943|     2020|\n",
            "|       \"[\"\"Linda\"\"]\"|    movie|      Monkey Warfare|          6.4|  01:15|        Comedy,Drama|      0|      Tracy Wright|             actress|     1959|     2010|\n",
            "|        \"[\"\"Self\"\"]\"|    movie|           Our Magic|          7.7|  01:35| Documentary,History|      0|   Johnny Thompson| miscellaneous,actor|     1934|     2019|\n",
            "|\"[\"\"Self - Aged 1...|  tvMovie|VE Day: Rememberi...|          6.9|  01:30|Biography,Documen...|      0|    Honor Blackman|  actress,soundtrack|     1925|     2020|\n",
            "|\"[\"\"Self - Singer...| tvSeries|An Art Lovers' Guide|          7.3|  01:00|         Documentary|      0| Celeste Rodrigues|             actress|     1923|     2018|\n",
            "|        \"[\"\"Self\"\"]\"|tvSpecial| WCW SuperBrawl 2000|          5.9|  02:00|        Action,Sport|      0|       James Brown|soundtrack,actor,...|     1933|     2006|\n",
            "|        \"[\"\"Self\"\"]\"|    video|Inside Living Things|          8.4|  00:17|   Documentary,Short|      0|Chester Bennington|soundtrack,actor,...|     1976|     2017|\n",
            "|        \"[\"\"Self\"\"]\"|  tvMovie|Philippe Noiret: ...|          8.0|  00:52|         Documentary|      0|    Jean Rochefort|actor,soundtrack,...|     1930|     2017|\n",
            "|\"[\"\"Yisrael 'the ...|    movie|    Kikar Ha-Halomot|          6.9|  01:38|               Drama|      0|    Yosef Shiloach|actor,writer,prod...|     1941|     2011|\n",
            "|        \"[\"\"Self\"\"]\"|    video|Striptease: The G...|          6.4|  00:54|         Documentary|      0|       Dixie Evans|             actress|     1926|     2013|\n",
            "|\"[\"\"Henderson Dav...|    movie|       Crash Landing|          3.7|  01:28|  Action,Crime,Drama|      0|      Kevin Dobson|      actor,director|     1943|     2020|\n",
            "|        \"[\"\"Self\"\"]\"|    video|Never Trust a Pal...|          1.9|  00:27|   Documentary,Short|      0|      Dario Gabbai|               actor|     1922|     2020|\n",
            "|       \"[\"\"Billu\"\"]\"|    movie|               Billu|          6.2|  02:17|        Comedy,Drama|      0|       Irrfan Khan|actor,director,pr...|     1967|     2020|\n",
            "+--------------------+---------+--------------------+-------------+-------+--------------------+-------+------------------+--------------------+---------+---------+\n",
            "only showing top 20 rows\n",
            "\n"
          ],
          "name": "stdout"
        }
      ]
    }
  ]
}
{
  "nbformat": 4,
  "nbformat_minor": 0,
  "metadata": {
    "colab": {
      "name": "PeterpanBook_wordCountipynb",
      "provenance": [],
      "collapsed_sections": []
    },
    "kernelspec": {
      "name": "python3",
      "display_name": "Python 3"
    },
    "language_info": {
      "name": "python"
    }
  },
  "cells": [
    {
      "cell_type": "code",
      "metadata": {
        "colab": {
          "base_uri": "https://localhost:8080/"
        },
        "id": "HYBDfiY5q4FC",
        "outputId": "8fe14101-1164-436a-dcaf-c4f7a87edd29"
      },
      "source": [
        " # activate Spark in our Colab notebook.\n",
        "import os\n",
        "# Find the latest version of spark 3.0  from http://www-us.apache.org/dist/spark/ and enter as the spark version\n",
        "# For example: 'spark-3.0.2'\n",
        "spark_version = 'spark-3.1.1'\n",
        "# spark_version = 'spark-3.<enter version>'\n",
        "os.environ['SPARK_VERSION']=spark_version\n",
        "\n",
        "# Install Spark and Java\n",
        "!apt-get update\n",
        "!apt-get install openjdk-11-jdk-headless -qq > /dev/null\n",
        "!wget -q http://www-us.apache.org/dist/spark/$SPARK_VERSION/$SPARK_VERSION-bin-hadoop2.7.tgz\n",
        "!tar xf $SPARK_VERSION-bin-hadoop2.7.tgz\n",
        "!pip install -q findspark\n",
        "\n",
        "# Set Environment Variables\n",
        "os.environ[\"JAVA_HOME\"] = \"/usr/lib/jvm/java-11-openjdk-amd64\"\n",
        "os.environ[\"SPARK_HOME\"] = f\"/content/{spark_version}-bin-hadoop2.7\"\n",
        "\n",
        "# Start a SparkSession\n",
        "import findspark\n",
        "findspark.init()"
      ],
      "execution_count": 2,
      "outputs": [
        {
          "output_type": "stream",
          "text": [
            "\r0% [Working]\r            \rGet:1 https://cloud.r-project.org/bin/linux/ubuntu bionic-cran40/ InRelease [3,626 B]\n",
            "Ign:2 https://developer.download.nvidia.com/compute/cuda/repos/ubuntu1804/x86_64  InRelease\n",
            "Get:3 http://ppa.launchpad.net/c2d4u.team/c2d4u4.0+/ubuntu bionic InRelease [15.9 kB]\n",
            "Ign:4 https://developer.download.nvidia.com/compute/machine-learning/repos/ubuntu1804/x86_64  InRelease\n",
            "Hit:5 https://developer.download.nvidia.com/compute/cuda/repos/ubuntu1804/x86_64  Release\n",
            "Hit:6 https://developer.download.nvidia.com/compute/machine-learning/repos/ubuntu1804/x86_64  Release\n",
            "Hit:7 http://archive.ubuntu.com/ubuntu bionic InRelease\n",
            "Get:8 http://security.ubuntu.com/ubuntu bionic-security InRelease [88.7 kB]\n",
            "Get:9 http://archive.ubuntu.com/ubuntu bionic-updates InRelease [88.7 kB]\n",
            "Get:10 https://cloud.r-project.org/bin/linux/ubuntu bionic-cran40/ Packages [52.7 kB]\n",
            "Hit:11 http://ppa.launchpad.net/cran/libgit2/ubuntu bionic InRelease\n",
            "Get:13 http://ppa.launchpad.net/deadsnakes/ppa/ubuntu bionic InRelease [15.9 kB]\n",
            "Get:14 http://archive.ubuntu.com/ubuntu bionic-backports InRelease [74.6 kB]\n",
            "Hit:16 http://ppa.launchpad.net/graphics-drivers/ppa/ubuntu bionic InRelease\n",
            "Get:17 http://ppa.launchpad.net/c2d4u.team/c2d4u4.0+/ubuntu bionic/main Sources [1,749 kB]\n",
            "Get:18 http://security.ubuntu.com/ubuntu bionic-security/universe amd64 Packages [1,402 kB]\n",
            "Get:19 http://archive.ubuntu.com/ubuntu bionic-updates/main amd64 Packages [2,475 kB]\n",
            "Get:20 http://ppa.launchpad.net/c2d4u.team/c2d4u4.0+/ubuntu bionic/main amd64 Packages [895 kB]\n",
            "Get:21 http://security.ubuntu.com/ubuntu bionic-security/main amd64 Packages [2,045 kB]\n",
            "Get:22 http://archive.ubuntu.com/ubuntu bionic-updates/universe amd64 Packages [2,170 kB]\n",
            "Fetched 11.1 MB in 3s (3,579 kB/s)\n",
            "Reading package lists... Done\n"
          ],
          "name": "stdout"
        }
      ]
    },
    {
      "cell_type": "code",
      "metadata": {
        "id": "-AYyANsurC1N"
      },
      "source": [
        " #import packages\n",
        "\n",
        "from pyspark.sql import SparkSession\n",
        "from pyspark.sql import Row\n",
        "from pyspark.sql.types import StructType,StructField,StringType, DateType,IntegerType\n",
        "from pyspark import SparkFiles\n",
        "\n",
        "# Create a SparkSession\n",
        "spark = SparkSession.builder.appName(\"SparkSQL\").getOrCreate()"
      ],
      "execution_count": 3,
      "outputs": []
    },
    {
      "cell_type": "code",
      "metadata": {
        "id": "oQ-gKwNqrC4b"
      },
      "source": [
        "#reading the peterpan text file\n",
        "df = spark.read.option(\"header\", \"true\") \\\n",
        "    .option(\"delimiter\", \",\") \\\n",
        "    .option(\"inferSchema\", \"true\") \\\n",
        "    .csv(\"/content/peterpan.txt\")"
      ],
      "execution_count": 4,
      "outputs": []
    },
    {
      "cell_type": "code",
      "metadata": {
        "colab": {
          "base_uri": "https://localhost:8080/"
        },
        "id": "X4a46MpDrC7s",
        "outputId": "d39b766d-f0f6-4d0d-88da-53c33ca6f4ee"
      },
      "source": [
        "#taking a look at the file\n",
        "df.show()"
      ],
      "execution_count": null,
      "outputs": [
        {
          "output_type": "stream",
          "text": [
            "+--------------------+--------------------+-----------------------------------------------+------------------------------------------------------------------------------------------------+---------------------------------------------------------------------------------------------------------------+-----------------------------------------------------+--------------------+-----------------------------------------------------------------------------------------------+---------------------------------------------------------------------------------------------------------------------+\n",
            "|        All children|          except one| grow up. They soon know that they will grow up| and the way Wendy knew was this. One day when she was two years old she was playing in a garden| and she plucked another flower and ran with it to her mother. I suppose she must have looked rather delightful| for Mrs. Darling put her hand to her heart and cried|                 “Oh| why can't you remain like this for ever!” This was all that passed between them on the subject| but henceforth Wendy knew that she must grow up. You always know after you are two. Two is the beginning of the end.|\n",
            "+--------------------+--------------------+-----------------------------------------------+------------------------------------------------------------------------------------------------+---------------------------------------------------------------------------------------------------------------+-----------------------------------------------------+--------------------+-----------------------------------------------------------------------------------------------+---------------------------------------------------------------------------------------------------------------------+\n",
            "|Of course they li...| and until Wendy ...|                            with a romantic ...|                                                                             one within the o...|                                                                                            that come from t...|                                  however many you...| though there it was|                                                                            perfectly conspi...|                                                                                                                 null|\n",
            "|The way Mr. Darli...| and they all ran...|                            who took a cab a...|                                                                             and so he got he...|                                                                                            except the inner...|                                  and in time he g...| but I can pictur...|                                                                            and then going o...|                                                                                                   slamming the door.|\n",
            "|Mr. Darling used ...| but he quite see...|                            and he often sai...|                                                                                            null|                                                                                                           null|                                                 null|                null|                                                                                           null|                                                                                                                 null|\n",
            "|Mrs. Darling was ...| and at first she...|                               almost gleefully|                                                                             as if it were a ...|                                                                                            not so much as a...|                                  and instead of t...|                null|                                                                                           null|                                                                                                                 null|\n",
            "|    Wendy came first|           then John|                                  then Michael.|                                                                                            null|                                                                                                           null|                                                 null|                null|                                                                                           null|                                                                                                                 null|\n",
            "|For a week or two...| as she was anoth...|                            but he was very ...|                                                                             and he sat on th...|                                                                                            holding her hand...|                                  while she looked...|     come what might|                                                                            but that was not...|                                                                                                  and if she confu...|\n",
            "|“Now don't interrupt|” he would beg of...|                                           null|                                                                                            null|                                                                                                           null|                                                 null|                null|                                                                                           null|                                                                                                                 null|\n",
            "|“I have one pound...| and two and six ...|                              say ten shillings|                                                                             making two nine ...|                                                                                            with your eighte...|                                  with five naught...| dot and carry se...|                                                                            my own—and the p...|                                                                                                  child—dot and ca...|\n",
            "|   “Of course we can|              George|                           ” she cried. But ...|                                                                             and he was reall...|                                                                                                           null|                                                 null|                null|                                                                                           null|                                                                                                                 null|\n",
            "|     “Remember mumps|” he warned her a...|                            and off he went ...|                                                                             that is what I h...|                                                                                            but I daresay it...|                                  German measles h...| makes two fiftee...|                                                                            say fifteen shil...|                                                                                                  and it added up ...|\n",
            "|There was the sam...| and Michael had ...|                                       and soon|                                                                             you might have s...|                                                                                            accompanied by t...|                                                 null|                null|                                                                                           null|                                                                                                                 null|\n",
            "|Mrs. Darling love...| and Mr. Darling ...|                                      of course|                                                                             they had a nurse...|                                                                                            owing to the amo...|                                  this nurse was a...|         called Nana|                                                                            who had belonged...|                                                                                                              however|\n",
            "|No nursery could ...| and Mr. Darling ...|                            yet he sometimes...|                                                                                            null|                                                                                                           null|                                                 null|                null|                                                                                           null|                                                                                                                 null|\n",
            "|He had his positi...|                null|                                           null|                                                                                            null|                                                                                                           null|                                                 null|                null|                                                                                           null|                                                                                                                 null|\n",
            "|Nana also trouble...|              George|                           ” Mrs. Darling wo...|                                                                             and then she wou...|                                                                                            in which the onl...|                                                 Liza| was sometimes al...|                                                                            though she had s...|                                                                                                         when engaged|\n",
            "|Mrs. Darling firs...| repacking into t...|                            and you would fi...|                                                                                        I expect|                                                                                            lingering humoro...|                                  wondering where ...| making discoveri...|                                                                            pressing this to...|                                                                                                  and hurriedly st...|\n",
            "|I don't know whet...| and your own map...|                            but catch them t...|                                                                             which is not onl...|                                                                                            but keeps going ...|                                  just like your t...| and these are pr...|                                                                            for the Neverlan...|                                                                                                  with astonishing...|\n",
            "|Of course the Nev...|        for instance|                            had a lagoon wit...|                                                                                   while Michael|                                                                                             who was very small|                                  had a flamingo w...| Michael in a wigwam|                                                                            Wendy in a house...|                                                                                                  Michael had frie...|\n",
            "|Of all delectable...| not large and sp...|                                       you know|                                                                             with tedious dis...|                                                                                            but nicely cramm...|                                  it is not in the...| but in the two m...|                                                                                           null|                                                                                                                 null|\n",
            "|Occasionally in h...| and of these qui...|                            and yet he was h...|                                                                             while Wendy's be...|                                                                                            and as Mrs. Darl...|                                                 null|                null|                                                                                           null|                                                                                                                 null|\n",
            "+--------------------+--------------------+-----------------------------------------------+------------------------------------------------------------------------------------------------+---------------------------------------------------------------------------------------------------------------+-----------------------------------------------------+--------------------+-----------------------------------------------------------------------------------------------+---------------------------------------------------------------------------------------------------------------------+\n",
            "only showing top 20 rows\n",
            "\n"
          ],
          "name": "stdout"
        }
      ]
    },
    {
      "cell_type": "code",
      "metadata": {
        "id": "D8WECaCvrDCM"
      },
      "source": [
        "#importing libraries \n",
        "from pyspark import SparkConf\n",
        "from pyspark.context import SparkContext\n",
        "sc = SparkContext.getOrCreate(SparkConf())\n",
        "data = sc.textFile(\"/content/peterpan.txt\")"
      ],
      "execution_count": 5,
      "outputs": []
    },
    {
      "cell_type": "code",
      "metadata": {
        "id": "j1TBiV3UrDFa"
      },
      "source": [
        "#using lamda to count\n",
        "counts = data.flatMap(lambda line: line.split(\" \")) \\\n",
        "             .map(lambda word: (word, 1)) \\\n",
        "             .reduceByKey(lambda a, b: a + b)"
      ],
      "execution_count": 6,
      "outputs": []
    },
    {
      "cell_type": "code",
      "metadata": {
        "id": "2lNBewP2rDMF"
      },
      "source": [
        "#saving ouput of count as text file\n",
        "counts.saveAsTextFile(\"/content/peterpanBookWORDcount\")"
      ],
      "execution_count": 7,
      "outputs": []
    },
    {
      "cell_type": "code",
      "metadata": {
        "id": "jAOt6kU3rDPU"
      },
      "source": [
        "#reading into df_1 so to print out\n",
        "df_1 = spark.read.option(\"header\", \"true\") \\\n",
        "    .option(\"delimiter\", \",\") \\\n",
        "    .option(\"inferSchema\", \"true\") \\\n",
        "    .csv(\"/content/peterpanBookWORDcount\")"
      ],
      "execution_count": 8,
      "outputs": []
    },
    {
      "cell_type": "code",
      "metadata": {
        "colab": {
          "base_uri": "https://localhost:8080/"
        },
        "id": "CLmqBuIdrDSv",
        "outputId": "9a426d5b-2393-4a33-9d71-f06ba90365f7"
      },
      "source": [
        "df_1.show()"
      ],
      "execution_count": 9,
      "outputs": [
        {
          "output_type": "stream",
          "text": [
            "+------------+-----+----+\n",
            "|       ('one|    '| 15)|\n",
            "+------------+-----+----+\n",
            "|     ('They'| 101)|null|\n",
            "|     ('know'|  64)|null|\n",
            "|      ('way'|  58)|null|\n",
            "|      ('was'| 897)|null|\n",
            "|      ('One'|   9)|null|\n",
            "|     ('when'| 151)|null|\n",
            "|      ('two'|  36)|null|\n",
            "|    ('years'|   3)|null|\n",
            "|       ('in'| 623)|null|\n",
            "|    ('garden|    '|  1)|\n",
            "|  ('plucked'|   2)|null|\n",
            "|   ('flower'|   2)|null|\n",
            "|      ('ran'|  17)|null|\n",
            "|      ('her'| 361)|null|\n",
            "|  ('suppose'|   7)|null|\n",
            "|     ('must'|  59)|null|\n",
            "|     ('have'| 243)|null|\n",
            "|   ('looked'|  33)|null|\n",
            "|   ('rather'|  40)|null|\n",
            "|('delightful|    '|  1)|\n",
            "+------------+-----+----+\n",
            "only showing top 20 rows\n",
            "\n"
          ],
          "name": "stdout"
        }
      ]
    },
    {
      "cell_type": "code",
      "metadata": {
        "id": "m8XfNB8RrDVs"
      },
      "source": [
        ""
      ],
      "execution_count": null,
      "outputs": []
    }
  ]
}
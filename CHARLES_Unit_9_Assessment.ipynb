{
  "nbformat": 4,
  "nbformat_minor": 0,
  "metadata": {
    "kernelspec": {
      "display_name": "Python 3",
      "language": "python",
      "name": "python3"
    },
    "language_info": {
      "codemirror_mode": {
        "name": "ipython",
        "version": 3
      },
      "file_extension": ".py",
      "mimetype": "text/x-python",
      "name": "python",
      "nbconvert_exporter": "python",
      "pygments_lexer": "ipython3",
      "version": "3.8.5"
    },
    "colab": {
      "name": "Unit_9_Assessment.ipynb",
      "provenance": [],
      "collapsed_sections": []
    }
  },
  "cells": [
    {
      "cell_type": "markdown",
      "metadata": {
        "id": "btWXJgHYupCl"
      },
      "source": [
        "# Instructions"
      ]
    },
    {
      "cell_type": "markdown",
      "metadata": {
        "id": "uLOCXNERupCn"
      },
      "source": [
        "Read each question carefully and provide an appropriate answer in the following cells. Depending on the question, you may need to provide code or a text submission. **Be sure to label your answers with the question number for easy identification!**"
      ]
    },
    {
      "cell_type": "markdown",
      "metadata": {
        "id": "X2s4cubzupCn"
      },
      "source": [
        "**Question 1: Which of the following statements is an example of a classification problem? (2 points)**\n",
        "\n",
        "A. Apartment Price Prediction \n",
        "\n",
        "B. Customer Churn Prediction\n",
        "\n",
        "C. Inventory Volume Forecasting\n",
        "\n",
        "D. Electric Power Consumption Prediction"
      ]
    },
    {
      "cell_type": "markdown",
      "metadata": {
        "id": "4tWXegZ5upCo"
      },
      "source": [
        "## Question 1 Answer\n",
        "### B. Customer Churn Prediction"
      ]
    },
    {
      "cell_type": "markdown",
      "metadata": {
        "id": "Piqk3DKcupCo"
      },
      "source": [
        "**Question 2: Add to the code block below where indicated to create training and testing datasets. Then create, fit, predict, and score a Logistic Regression model object to predict the target `is_promoted`. (8 points)**"
      ]
    },
    {
      "cell_type": "code",
      "metadata": {
        "colab": {
          "base_uri": "https://localhost:8080/"
        },
        "id": "ErJk-MBHupCo",
        "outputId": "03f4f039-433a-4054-ac90-9b640923b632"
      },
      "source": [
        "# Dependencies\n",
        "from sklearn import datasets\n",
        "from sklearn.linear_model import LogisticRegression \n",
        "from sklearn.model_selection import train_test_split\n",
        "from sklearn.metrics import accuracy_score\n",
        "import pandas as pd\n",
        "import matplotlib.pyplot as plt\n",
        "\n",
        "# Import Data\n",
        "pro_df = pd.read_csv('promotion_data.csv')\n",
        "\n",
        "### YOUR CODE HERE\n",
        "\n",
        "y = pro_df['is_promoted']                     \n",
        "X = pro_df.drop(columns = ['is_promoted'])    \n",
        "\n",
        "\n",
        "# Training and test data sets\n",
        "X_train, X_test, y_train, y_test = train_test_split(X, y, test_size = 0.2, random_state = 42)\n",
        "\n",
        "\n",
        "# Create and fit model\n",
        "log_model = LogisticRegression(solver = 'liblinear')\n",
        "log_model.fit(X_train, y_train)\n",
        "\n",
        "\n",
        "# Predict \n",
        "y_pred = log_model.predict(X_test)\n",
        "\n",
        "\n",
        "# Score the model\n",
        "print(f'Model score: {accuracy_score(y_test, y_pred)}')"
      ],
      "execution_count": 1,
      "outputs": [
        {
          "output_type": "stream",
          "text": [
            "Model score: 0.9163584052609947\n"
          ],
          "name": "stdout"
        }
      ]
    },
    {
      "cell_type": "markdown",
      "metadata": {
        "id": "nyheO8DNupCp"
      },
      "source": [
        "**Question 3: Using the model created in question 2, plot a Confusion Matrix. (4 points)**"
      ]
    },
    {
      "cell_type": "code",
      "metadata": {
        "colab": {
          "base_uri": "https://localhost:8080/",
          "height": 296
        },
        "id": "vZ47WY_DupCq",
        "outputId": "5febb75d-19ae-415e-c108-3517e54fb331"
      },
      "source": [
        "from sklearn.metrics import plot_confusion_matrix\n",
        "\n",
        "### YOUR CODE HERE\n",
        "plot_confusion_matrix(log_model, X_test, y_test, cmap = plt.cm.Reds)"
      ],
      "execution_count": 2,
      "outputs": [
        {
          "output_type": "execute_result",
          "data": {
            "text/plain": [
              "<sklearn.metrics._plot.confusion_matrix.ConfusionMatrixDisplay at 0x7f6762d50590>"
            ]
          },
          "metadata": {
            "tags": []
          },
          "execution_count": 2
        },
        {
          "output_type": "display_data",
          "data": {
            "image/png": "[encoded data removed]",
            "text/plain": [
              "<Figure size 432x288 with 2 Axes>"
            ]
          },
          "metadata": {
            "tags": [],
            "needs_background": "light"
          }
        }
      ]
    },
    {
      "cell_type": "markdown",
      "metadata": {
        "id": "BRmmOy4_upCq"
      },
      "source": [
        "**Question 4: Using the model created in question 2, print a Classification Report. (4 points)**"
      ]
    },
    {
      "cell_type": "code",
      "metadata": {
        "colab": {
          "base_uri": "https://localhost:8080/"
        },
        "id": "KP0PyWbgupCq",
        "outputId": "81041017-6297-437d-8714-75e64472cf0e"
      },
      "source": [
        "from sklearn.metrics import classification_report\n",
        "\n",
        "### YOUR CODE HERE\n",
        "print(classification_report(y_test, y_pred, target_names = ['Not Promoted', 'Promoted'] ))"
      ],
      "execution_count": 3,
      "outputs": [
        {
          "output_type": "stream",
          "text": [
            "              precision    recall  f1-score   support\n",
            "\n",
            "Not Promoted       0.92      1.00      0.96      8865\n",
            "    Promoted       0.80      0.08      0.15       867\n",
            "\n",
            "    accuracy                           0.92      9732\n",
            "   macro avg       0.86      0.54      0.55      9732\n",
            "weighted avg       0.91      0.92      0.88      9732\n",
            "\n"
          ],
          "name": "stdout"
        }
      ]
    },
    {
      "cell_type": "markdown",
      "metadata": {
        "id": "YlstxzX8upCr"
      },
      "source": [
        "**Question 5: Which one of the following concepts can we use to reduce the dimensionality of our dataset through the creation of combination features? (2 points):**\n",
        "\n",
        "A. Variable Inflation Factor\n",
        "\n",
        "B. Eigendecomposition \n",
        "\n",
        "C. Principal Component Analysis\n",
        "\n",
        "D. Analysis of Variance"
      ]
    },
    {
      "cell_type": "markdown",
      "metadata": {
        "id": "13Orv9C1upCr"
      },
      "source": [
        "## Question 5 Answer\n",
        "### C. Principal Component Analysis"
      ]
    }
  ]
}